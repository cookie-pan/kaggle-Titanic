{
  "metadata": {
    "kernelspec": {
      "language": "python",
      "display_name": "Python 3",
      "name": "python3"
    },
    "language_info": {
      "name": "python",
      "version": "3.7.12",
      "mimetype": "text/x-python",
      "codemirror_mode": {
        "name": "ipython",
        "version": 3
      },
      "pygments_lexer": "ipython3",
      "nbconvert_exporter": "python",
      "file_extension": ".py"
    },
    "colab": {
      "name": "“titanic_end_version.ipynb”",
      "provenance": [],
      "collapsed_sections": [],
      "include_colab_link": true
    }
  },
  "nbformat_minor": 0,
  "nbformat": 4,
  "cells": [
    {
      "cell_type": "markdown",
      "metadata": {
        "id": "view-in-github",
        "colab_type": "text"
      },
      "source": [
        "<a href=\"https://colab.research.google.com/github/cookie-pan/kaggle-Titanic/blob/main/%E2%80%9Ctitanic_end_version%E2%80%9D.ipynb\" target=\"_parent\"><img src=\"https://colab.research.google.com/assets/colab-badge.svg\" alt=\"Open In Colab\"/></a>"
      ]
    },
    {
      "cell_type": "code",
      "source": [
        "!pip install sklearn"
      ],
      "metadata": {
        "execution": {
          "iopub.status.busy": "2022-02-17T03:38:18.921186Z",
          "iopub.execute_input": "2022-02-17T03:38:18.921974Z",
          "iopub.status.idle": "2022-02-17T03:38:29.841774Z",
          "shell.execute_reply.started": "2022-02-17T03:38:18.921916Z",
          "shell.execute_reply": "2022-02-17T03:38:29.840655Z"
        },
        "trusted": true,
        "id": "_hu_zNtTB3L5",
        "colab": {
          "base_uri": "https://localhost:8080/"
        },
        "outputId": "10c81f74-ed80-4c74-f6da-914e01c00e4f"
      },
      "execution_count": 5,
      "outputs": [
        {
          "output_type": "stream",
          "name": "stdout",
          "text": [
            "Requirement already satisfied: sklearn in /usr/local/lib/python3.7/dist-packages (0.0)\n",
            "Requirement already satisfied: scikit-learn in /usr/local/lib/python3.7/dist-packages (from sklearn) (1.0.2)\n",
            "Requirement already satisfied: scipy>=1.1.0 in /usr/local/lib/python3.7/dist-packages (from scikit-learn->sklearn) (1.4.1)\n",
            "Requirement already satisfied: threadpoolctl>=2.0.0 in /usr/local/lib/python3.7/dist-packages (from scikit-learn->sklearn) (3.1.0)\n",
            "Requirement already satisfied: joblib>=0.11 in /usr/local/lib/python3.7/dist-packages (from scikit-learn->sklearn) (1.1.0)\n",
            "Requirement already satisfied: numpy>=1.14.6 in /usr/local/lib/python3.7/dist-packages (from scikit-learn->sklearn) (1.21.5)\n"
          ]
        }
      ]
    },
    {
      "cell_type": "code",
      "source": [
        "import numpy as np \n",
        "import pandas as pd \n",
        "import copy\n",
        "import warnings \n",
        "import seaborn as sns\n",
        "import matplotlib.pyplot as plt\n",
        "\n",
        "\n",
        "# Input data files are available in the read-only \"../input/\" directory\n",
        "#  (/kaggle/working/) 当前工作路径默认为output路径\n",
        "# You can also write temporary files to /kaggle/temp/, but they won't be saved outside of the current session"
      ],
      "metadata": {
        "execution": {
          "iopub.status.busy": "2022-02-17T03:38:29.845186Z",
          "iopub.execute_input": "2022-02-17T03:38:29.845550Z",
          "iopub.status.idle": "2022-02-17T03:38:29.851250Z",
          "shell.execute_reply.started": "2022-02-17T03:38:29.845494Z",
          "shell.execute_reply": "2022-02-17T03:38:29.850298Z"
        },
        "trusted": true,
        "id": "kp1QM5nAB3L9"
      },
      "execution_count": 6,
      "outputs": []
    },
    {
      "cell_type": "code",
      "source": [
        "# sns.set(style='white',context='notebook',palette='muted')\n",
        "\n",
        "warnings.filterwarnings('ignore')\n",
        "sns.set_style(\"darkgrid\", {\"axes.facecolor\": \".9\"})"
      ],
      "metadata": {
        "id": "5eVsn59eru5D"
      },
      "execution_count": 7,
      "outputs": []
    },
    {
      "cell_type": "markdown",
      "source": [
        "# 读取数据"
      ],
      "metadata": {
        "id": "G1EUG3cwB3L-"
      }
    },
    {
      "cell_type": "code",
      "source": [
        "training = pd.read_csv('train.csv')\n",
        "testing = pd.read_csv('test.csv')\n"
      ],
      "metadata": {
        "execution": {
          "iopub.status.busy": "2022-02-17T03:38:29.852610Z",
          "iopub.execute_input": "2022-02-17T03:38:29.852874Z",
          "iopub.status.idle": "2022-02-17T03:38:29.893325Z",
          "shell.execute_reply.started": "2022-02-17T03:38:29.852841Z",
          "shell.execute_reply": "2022-02-17T03:38:29.892474Z"
        },
        "trusted": true,
        "id": "HXi4YYooB3MA"
      },
      "execution_count": 8,
      "outputs": []
    },
    {
      "cell_type": "code",
      "source": [
        "train=copy.deepcopy(training)\n",
        "test=copy.deepcopy(testing)"
      ],
      "metadata": {
        "id": "tQjIghvkcOUz"
      },
      "execution_count": 9,
      "outputs": []
    },
    {
      "cell_type": "markdown",
      "source": [
        "# 合并测试集和训练集"
      ],
      "metadata": {
        "id": "wpxobofKljYE"
      }
    },
    {
      "cell_type": "code",
      "source": [
        "#查看数据是否有异常值\n",
        "train.describe()\n",
        "test.describe()\n",
        "#将两表合并\n",
        "#ignore_index=True 重新设置合并后的索引，append是创建副本\n",
        "all=train.append(test,ignore_index=True) \n",
        "all"
      ],
      "metadata": {
        "execution": {
          "iopub.status.busy": "2022-02-17T03:38:29.895432Z",
          "iopub.execute_input": "2022-02-17T03:38:29.895641Z",
          "iopub.status.idle": "2022-02-17T03:38:29.934461Z",
          "shell.execute_reply.started": "2022-02-17T03:38:29.895614Z",
          "shell.execute_reply": "2022-02-17T03:38:29.933286Z"
        },
        "trusted": true,
        "colab": {
          "base_uri": "https://localhost:8080/",
          "height": 537
        },
        "id": "XEa5-7pFB3MC",
        "outputId": "4a1a938a-071f-4cb5-d9a4-401a0444f995"
      },
      "execution_count": 10,
      "outputs": [
        {
          "output_type": "execute_result",
          "data": {
            "text/html": [
              "\n",
              "  <div id=\"df-ea1e0ff4-74be-4d1e-a765-4ce5322ab029\">\n",
              "    <div class=\"colab-df-container\">\n",
              "      <div>\n",
              "<style scoped>\n",
              "    .dataframe tbody tr th:only-of-type {\n",
              "        vertical-align: middle;\n",
              "    }\n",
              "\n",
              "    .dataframe tbody tr th {\n",
              "        vertical-align: top;\n",
              "    }\n",
              "\n",
              "    .dataframe thead th {\n",
              "        text-align: right;\n",
              "    }\n",
              "</style>\n",
              "<table border=\"1\" class=\"dataframe\">\n",
              "  <thead>\n",
              "    <tr style=\"text-align: right;\">\n",
              "      <th></th>\n",
              "      <th>PassengerId</th>\n",
              "      <th>Survived</th>\n",
              "      <th>Pclass</th>\n",
              "      <th>Name</th>\n",
              "      <th>Sex</th>\n",
              "      <th>Age</th>\n",
              "      <th>SibSp</th>\n",
              "      <th>Parch</th>\n",
              "      <th>Ticket</th>\n",
              "      <th>Fare</th>\n",
              "      <th>Cabin</th>\n",
              "      <th>Embarked</th>\n",
              "    </tr>\n",
              "  </thead>\n",
              "  <tbody>\n",
              "    <tr>\n",
              "      <th>0</th>\n",
              "      <td>1</td>\n",
              "      <td>0.0</td>\n",
              "      <td>3</td>\n",
              "      <td>Braund, Mr. Owen Harris</td>\n",
              "      <td>male</td>\n",
              "      <td>22.0</td>\n",
              "      <td>1</td>\n",
              "      <td>0</td>\n",
              "      <td>A/5 21171</td>\n",
              "      <td>7.2500</td>\n",
              "      <td>NaN</td>\n",
              "      <td>S</td>\n",
              "    </tr>\n",
              "    <tr>\n",
              "      <th>1</th>\n",
              "      <td>2</td>\n",
              "      <td>1.0</td>\n",
              "      <td>1</td>\n",
              "      <td>Cumings, Mrs. John Bradley (Florence Briggs Th...</td>\n",
              "      <td>female</td>\n",
              "      <td>38.0</td>\n",
              "      <td>1</td>\n",
              "      <td>0</td>\n",
              "      <td>PC 17599</td>\n",
              "      <td>71.2833</td>\n",
              "      <td>C85</td>\n",
              "      <td>C</td>\n",
              "    </tr>\n",
              "    <tr>\n",
              "      <th>2</th>\n",
              "      <td>3</td>\n",
              "      <td>1.0</td>\n",
              "      <td>3</td>\n",
              "      <td>Heikkinen, Miss. Laina</td>\n",
              "      <td>female</td>\n",
              "      <td>26.0</td>\n",
              "      <td>0</td>\n",
              "      <td>0</td>\n",
              "      <td>STON/O2. 3101282</td>\n",
              "      <td>7.9250</td>\n",
              "      <td>NaN</td>\n",
              "      <td>S</td>\n",
              "    </tr>\n",
              "    <tr>\n",
              "      <th>3</th>\n",
              "      <td>4</td>\n",
              "      <td>1.0</td>\n",
              "      <td>1</td>\n",
              "      <td>Futrelle, Mrs. Jacques Heath (Lily May Peel)</td>\n",
              "      <td>female</td>\n",
              "      <td>35.0</td>\n",
              "      <td>1</td>\n",
              "      <td>0</td>\n",
              "      <td>113803</td>\n",
              "      <td>53.1000</td>\n",
              "      <td>C123</td>\n",
              "      <td>S</td>\n",
              "    </tr>\n",
              "    <tr>\n",
              "      <th>4</th>\n",
              "      <td>5</td>\n",
              "      <td>0.0</td>\n",
              "      <td>3</td>\n",
              "      <td>Allen, Mr. William Henry</td>\n",
              "      <td>male</td>\n",
              "      <td>35.0</td>\n",
              "      <td>0</td>\n",
              "      <td>0</td>\n",
              "      <td>373450</td>\n",
              "      <td>8.0500</td>\n",
              "      <td>NaN</td>\n",
              "      <td>S</td>\n",
              "    </tr>\n",
              "    <tr>\n",
              "      <th>...</th>\n",
              "      <td>...</td>\n",
              "      <td>...</td>\n",
              "      <td>...</td>\n",
              "      <td>...</td>\n",
              "      <td>...</td>\n",
              "      <td>...</td>\n",
              "      <td>...</td>\n",
              "      <td>...</td>\n",
              "      <td>...</td>\n",
              "      <td>...</td>\n",
              "      <td>...</td>\n",
              "      <td>...</td>\n",
              "    </tr>\n",
              "    <tr>\n",
              "      <th>1304</th>\n",
              "      <td>1305</td>\n",
              "      <td>NaN</td>\n",
              "      <td>3</td>\n",
              "      <td>Spector, Mr. Woolf</td>\n",
              "      <td>male</td>\n",
              "      <td>NaN</td>\n",
              "      <td>0</td>\n",
              "      <td>0</td>\n",
              "      <td>A.5. 3236</td>\n",
              "      <td>8.0500</td>\n",
              "      <td>NaN</td>\n",
              "      <td>S</td>\n",
              "    </tr>\n",
              "    <tr>\n",
              "      <th>1305</th>\n",
              "      <td>1306</td>\n",
              "      <td>NaN</td>\n",
              "      <td>1</td>\n",
              "      <td>Oliva y Ocana, Dona. Fermina</td>\n",
              "      <td>female</td>\n",
              "      <td>39.0</td>\n",
              "      <td>0</td>\n",
              "      <td>0</td>\n",
              "      <td>PC 17758</td>\n",
              "      <td>108.9000</td>\n",
              "      <td>C105</td>\n",
              "      <td>C</td>\n",
              "    </tr>\n",
              "    <tr>\n",
              "      <th>1306</th>\n",
              "      <td>1307</td>\n",
              "      <td>NaN</td>\n",
              "      <td>3</td>\n",
              "      <td>Saether, Mr. Simon Sivertsen</td>\n",
              "      <td>male</td>\n",
              "      <td>38.5</td>\n",
              "      <td>0</td>\n",
              "      <td>0</td>\n",
              "      <td>SOTON/O.Q. 3101262</td>\n",
              "      <td>7.2500</td>\n",
              "      <td>NaN</td>\n",
              "      <td>S</td>\n",
              "    </tr>\n",
              "    <tr>\n",
              "      <th>1307</th>\n",
              "      <td>1308</td>\n",
              "      <td>NaN</td>\n",
              "      <td>3</td>\n",
              "      <td>Ware, Mr. Frederick</td>\n",
              "      <td>male</td>\n",
              "      <td>NaN</td>\n",
              "      <td>0</td>\n",
              "      <td>0</td>\n",
              "      <td>359309</td>\n",
              "      <td>8.0500</td>\n",
              "      <td>NaN</td>\n",
              "      <td>S</td>\n",
              "    </tr>\n",
              "    <tr>\n",
              "      <th>1308</th>\n",
              "      <td>1309</td>\n",
              "      <td>NaN</td>\n",
              "      <td>3</td>\n",
              "      <td>Peter, Master. Michael J</td>\n",
              "      <td>male</td>\n",
              "      <td>NaN</td>\n",
              "      <td>1</td>\n",
              "      <td>1</td>\n",
              "      <td>2668</td>\n",
              "      <td>22.3583</td>\n",
              "      <td>NaN</td>\n",
              "      <td>C</td>\n",
              "    </tr>\n",
              "  </tbody>\n",
              "</table>\n",
              "<p>1309 rows × 12 columns</p>\n",
              "</div>\n",
              "      <button class=\"colab-df-convert\" onclick=\"convertToInteractive('df-ea1e0ff4-74be-4d1e-a765-4ce5322ab029')\"\n",
              "              title=\"Convert this dataframe to an interactive table.\"\n",
              "              style=\"display:none;\">\n",
              "        \n",
              "  <svg xmlns=\"http://www.w3.org/2000/svg\" height=\"24px\"viewBox=\"0 0 24 24\"\n",
              "       width=\"24px\">\n",
              "    <path d=\"M0 0h24v24H0V0z\" fill=\"none\"/>\n",
              "    <path d=\"M18.56 5.44l.94 2.06.94-2.06 2.06-.94-2.06-.94-.94-2.06-.94 2.06-2.06.94zm-11 1L8.5 8.5l.94-2.06 2.06-.94-2.06-.94L8.5 2.5l-.94 2.06-2.06.94zm10 10l.94 2.06.94-2.06 2.06-.94-2.06-.94-.94-2.06-.94 2.06-2.06.94z\"/><path d=\"M17.41 7.96l-1.37-1.37c-.4-.4-.92-.59-1.43-.59-.52 0-1.04.2-1.43.59L10.3 9.45l-7.72 7.72c-.78.78-.78 2.05 0 2.83L4 21.41c.39.39.9.59 1.41.59.51 0 1.02-.2 1.41-.59l7.78-7.78 2.81-2.81c.8-.78.8-2.07 0-2.86zM5.41 20L4 18.59l7.72-7.72 1.47 1.35L5.41 20z\"/>\n",
              "  </svg>\n",
              "      </button>\n",
              "      \n",
              "  <style>\n",
              "    .colab-df-container {\n",
              "      display:flex;\n",
              "      flex-wrap:wrap;\n",
              "      gap: 12px;\n",
              "    }\n",
              "\n",
              "    .colab-df-convert {\n",
              "      background-color: #E8F0FE;\n",
              "      border: none;\n",
              "      border-radius: 50%;\n",
              "      cursor: pointer;\n",
              "      display: none;\n",
              "      fill: #1967D2;\n",
              "      height: 32px;\n",
              "      padding: 0 0 0 0;\n",
              "      width: 32px;\n",
              "    }\n",
              "\n",
              "    .colab-df-convert:hover {\n",
              "      background-color: #E2EBFA;\n",
              "      box-shadow: 0px 1px 2px rgba(60, 64, 67, 0.3), 0px 1px 3px 1px rgba(60, 64, 67, 0.15);\n",
              "      fill: #174EA6;\n",
              "    }\n",
              "\n",
              "    [theme=dark] .colab-df-convert {\n",
              "      background-color: #3B4455;\n",
              "      fill: #D2E3FC;\n",
              "    }\n",
              "\n",
              "    [theme=dark] .colab-df-convert:hover {\n",
              "      background-color: #434B5C;\n",
              "      box-shadow: 0px 1px 3px 1px rgba(0, 0, 0, 0.15);\n",
              "      filter: drop-shadow(0px 1px 2px rgba(0, 0, 0, 0.3));\n",
              "      fill: #FFFFFF;\n",
              "    }\n",
              "  </style>\n",
              "\n",
              "      <script>\n",
              "        const buttonEl =\n",
              "          document.querySelector('#df-ea1e0ff4-74be-4d1e-a765-4ce5322ab029 button.colab-df-convert');\n",
              "        buttonEl.style.display =\n",
              "          google.colab.kernel.accessAllowed ? 'block' : 'none';\n",
              "\n",
              "        async function convertToInteractive(key) {\n",
              "          const element = document.querySelector('#df-ea1e0ff4-74be-4d1e-a765-4ce5322ab029');\n",
              "          const dataTable =\n",
              "            await google.colab.kernel.invokeFunction('convertToInteractive',\n",
              "                                                     [key], {});\n",
              "          if (!dataTable) return;\n",
              "\n",
              "          const docLinkHtml = 'Like what you see? Visit the ' +\n",
              "            '<a target=\"_blank\" href=https://colab.research.google.com/notebooks/data_table.ipynb>data table notebook</a>'\n",
              "            + ' to learn more about interactive tables.';\n",
              "          element.innerHTML = '';\n",
              "          dataTable['output_type'] = 'display_data';\n",
              "          await google.colab.output.renderOutput(dataTable, element);\n",
              "          const docLink = document.createElement('div');\n",
              "          docLink.innerHTML = docLinkHtml;\n",
              "          element.appendChild(docLink);\n",
              "        }\n",
              "      </script>\n",
              "    </div>\n",
              "  </div>\n",
              "  "
            ],
            "text/plain": [
              "      PassengerId  Survived  Pclass  \\\n",
              "0               1       0.0       3   \n",
              "1               2       1.0       1   \n",
              "2               3       1.0       3   \n",
              "3               4       1.0       1   \n",
              "4               5       0.0       3   \n",
              "...           ...       ...     ...   \n",
              "1304         1305       NaN       3   \n",
              "1305         1306       NaN       1   \n",
              "1306         1307       NaN       3   \n",
              "1307         1308       NaN       3   \n",
              "1308         1309       NaN       3   \n",
              "\n",
              "                                                   Name     Sex   Age  SibSp  \\\n",
              "0                               Braund, Mr. Owen Harris    male  22.0      1   \n",
              "1     Cumings, Mrs. John Bradley (Florence Briggs Th...  female  38.0      1   \n",
              "2                                Heikkinen, Miss. Laina  female  26.0      0   \n",
              "3          Futrelle, Mrs. Jacques Heath (Lily May Peel)  female  35.0      1   \n",
              "4                              Allen, Mr. William Henry    male  35.0      0   \n",
              "...                                                 ...     ...   ...    ...   \n",
              "1304                                 Spector, Mr. Woolf    male   NaN      0   \n",
              "1305                       Oliva y Ocana, Dona. Fermina  female  39.0      0   \n",
              "1306                       Saether, Mr. Simon Sivertsen    male  38.5      0   \n",
              "1307                                Ware, Mr. Frederick    male   NaN      0   \n",
              "1308                           Peter, Master. Michael J    male   NaN      1   \n",
              "\n",
              "      Parch              Ticket      Fare Cabin Embarked  \n",
              "0         0           A/5 21171    7.2500   NaN        S  \n",
              "1         0            PC 17599   71.2833   C85        C  \n",
              "2         0    STON/O2. 3101282    7.9250   NaN        S  \n",
              "3         0              113803   53.1000  C123        S  \n",
              "4         0              373450    8.0500   NaN        S  \n",
              "...     ...                 ...       ...   ...      ...  \n",
              "1304      0           A.5. 3236    8.0500   NaN        S  \n",
              "1305      0            PC 17758  108.9000  C105        C  \n",
              "1306      0  SOTON/O.Q. 3101262    7.2500   NaN        S  \n",
              "1307      0              359309    8.0500   NaN        S  \n",
              "1308      1                2668   22.3583   NaN        C  \n",
              "\n",
              "[1309 rows x 12 columns]"
            ]
          },
          "metadata": {},
          "execution_count": 10
        }
      ]
    },
    {
      "cell_type": "code",
      "source": [
        "all.info()"
      ],
      "metadata": {
        "colab": {
          "base_uri": "https://localhost:8080/"
        },
        "id": "odwD5yXBjy3y",
        "outputId": "4450c2a8-4a6f-4d5e-fd8a-fc4445bb8948"
      },
      "execution_count": 11,
      "outputs": [
        {
          "output_type": "stream",
          "name": "stdout",
          "text": [
            "<class 'pandas.core.frame.DataFrame'>\n",
            "RangeIndex: 1309 entries, 0 to 1308\n",
            "Data columns (total 12 columns):\n",
            " #   Column       Non-Null Count  Dtype  \n",
            "---  ------       --------------  -----  \n",
            " 0   PassengerId  1309 non-null   int64  \n",
            " 1   Survived     891 non-null    float64\n",
            " 2   Pclass       1309 non-null   int64  \n",
            " 3   Name         1309 non-null   object \n",
            " 4   Sex          1309 non-null   object \n",
            " 5   Age          1046 non-null   float64\n",
            " 6   SibSp        1309 non-null   int64  \n",
            " 7   Parch        1309 non-null   int64  \n",
            " 8   Ticket       1309 non-null   object \n",
            " 9   Fare         1308 non-null   float64\n",
            " 10  Cabin        295 non-null    object \n",
            " 11  Embarked     1307 non-null   object \n",
            "dtypes: float64(3), int64(4), object(5)\n",
            "memory usage: 122.8+ KB\n"
          ]
        }
      ]
    },
    {
      "cell_type": "code",
      "source": [
        "#我们观察到Fare只有一个缺失值\n",
        "all[all[\"Fare\"].isnull()]  \n",
        "#Embarked有两个缺失值\n",
        "all[all[\"Embarked\"].isnull()]\n",
        "#Age和Cabin需要填充"
      ],
      "metadata": {
        "colab": {
          "base_uri": "https://localhost:8080/",
          "height": 112
        },
        "id": "4t87V1g_j9ob",
        "outputId": "20d77185-ddab-4438-9a77-88911b52f7e5"
      },
      "execution_count": 12,
      "outputs": [
        {
          "output_type": "execute_result",
          "data": {
            "text/html": [
              "\n",
              "  <div id=\"df-c20da0a4-9dec-4514-901f-a5073fb7a870\">\n",
              "    <div class=\"colab-df-container\">\n",
              "      <div>\n",
              "<style scoped>\n",
              "    .dataframe tbody tr th:only-of-type {\n",
              "        vertical-align: middle;\n",
              "    }\n",
              "\n",
              "    .dataframe tbody tr th {\n",
              "        vertical-align: top;\n",
              "    }\n",
              "\n",
              "    .dataframe thead th {\n",
              "        text-align: right;\n",
              "    }\n",
              "</style>\n",
              "<table border=\"1\" class=\"dataframe\">\n",
              "  <thead>\n",
              "    <tr style=\"text-align: right;\">\n",
              "      <th></th>\n",
              "      <th>PassengerId</th>\n",
              "      <th>Survived</th>\n",
              "      <th>Pclass</th>\n",
              "      <th>Name</th>\n",
              "      <th>Sex</th>\n",
              "      <th>Age</th>\n",
              "      <th>SibSp</th>\n",
              "      <th>Parch</th>\n",
              "      <th>Ticket</th>\n",
              "      <th>Fare</th>\n",
              "      <th>Cabin</th>\n",
              "      <th>Embarked</th>\n",
              "    </tr>\n",
              "  </thead>\n",
              "  <tbody>\n",
              "    <tr>\n",
              "      <th>61</th>\n",
              "      <td>62</td>\n",
              "      <td>1.0</td>\n",
              "      <td>1</td>\n",
              "      <td>Icard, Miss. Amelie</td>\n",
              "      <td>female</td>\n",
              "      <td>38.0</td>\n",
              "      <td>0</td>\n",
              "      <td>0</td>\n",
              "      <td>113572</td>\n",
              "      <td>80.0</td>\n",
              "      <td>B28</td>\n",
              "      <td>NaN</td>\n",
              "    </tr>\n",
              "    <tr>\n",
              "      <th>829</th>\n",
              "      <td>830</td>\n",
              "      <td>1.0</td>\n",
              "      <td>1</td>\n",
              "      <td>Stone, Mrs. George Nelson (Martha Evelyn)</td>\n",
              "      <td>female</td>\n",
              "      <td>62.0</td>\n",
              "      <td>0</td>\n",
              "      <td>0</td>\n",
              "      <td>113572</td>\n",
              "      <td>80.0</td>\n",
              "      <td>B28</td>\n",
              "      <td>NaN</td>\n",
              "    </tr>\n",
              "  </tbody>\n",
              "</table>\n",
              "</div>\n",
              "      <button class=\"colab-df-convert\" onclick=\"convertToInteractive('df-c20da0a4-9dec-4514-901f-a5073fb7a870')\"\n",
              "              title=\"Convert this dataframe to an interactive table.\"\n",
              "              style=\"display:none;\">\n",
              "        \n",
              "  <svg xmlns=\"http://www.w3.org/2000/svg\" height=\"24px\"viewBox=\"0 0 24 24\"\n",
              "       width=\"24px\">\n",
              "    <path d=\"M0 0h24v24H0V0z\" fill=\"none\"/>\n",
              "    <path d=\"M18.56 5.44l.94 2.06.94-2.06 2.06-.94-2.06-.94-.94-2.06-.94 2.06-2.06.94zm-11 1L8.5 8.5l.94-2.06 2.06-.94-2.06-.94L8.5 2.5l-.94 2.06-2.06.94zm10 10l.94 2.06.94-2.06 2.06-.94-2.06-.94-.94-2.06-.94 2.06-2.06.94z\"/><path d=\"M17.41 7.96l-1.37-1.37c-.4-.4-.92-.59-1.43-.59-.52 0-1.04.2-1.43.59L10.3 9.45l-7.72 7.72c-.78.78-.78 2.05 0 2.83L4 21.41c.39.39.9.59 1.41.59.51 0 1.02-.2 1.41-.59l7.78-7.78 2.81-2.81c.8-.78.8-2.07 0-2.86zM5.41 20L4 18.59l7.72-7.72 1.47 1.35L5.41 20z\"/>\n",
              "  </svg>\n",
              "      </button>\n",
              "      \n",
              "  <style>\n",
              "    .colab-df-container {\n",
              "      display:flex;\n",
              "      flex-wrap:wrap;\n",
              "      gap: 12px;\n",
              "    }\n",
              "\n",
              "    .colab-df-convert {\n",
              "      background-color: #E8F0FE;\n",
              "      border: none;\n",
              "      border-radius: 50%;\n",
              "      cursor: pointer;\n",
              "      display: none;\n",
              "      fill: #1967D2;\n",
              "      height: 32px;\n",
              "      padding: 0 0 0 0;\n",
              "      width: 32px;\n",
              "    }\n",
              "\n",
              "    .colab-df-convert:hover {\n",
              "      background-color: #E2EBFA;\n",
              "      box-shadow: 0px 1px 2px rgba(60, 64, 67, 0.3), 0px 1px 3px 1px rgba(60, 64, 67, 0.15);\n",
              "      fill: #174EA6;\n",
              "    }\n",
              "\n",
              "    [theme=dark] .colab-df-convert {\n",
              "      background-color: #3B4455;\n",
              "      fill: #D2E3FC;\n",
              "    }\n",
              "\n",
              "    [theme=dark] .colab-df-convert:hover {\n",
              "      background-color: #434B5C;\n",
              "      box-shadow: 0px 1px 3px 1px rgba(0, 0, 0, 0.15);\n",
              "      filter: drop-shadow(0px 1px 2px rgba(0, 0, 0, 0.3));\n",
              "      fill: #FFFFFF;\n",
              "    }\n",
              "  </style>\n",
              "\n",
              "      <script>\n",
              "        const buttonEl =\n",
              "          document.querySelector('#df-c20da0a4-9dec-4514-901f-a5073fb7a870 button.colab-df-convert');\n",
              "        buttonEl.style.display =\n",
              "          google.colab.kernel.accessAllowed ? 'block' : 'none';\n",
              "\n",
              "        async function convertToInteractive(key) {\n",
              "          const element = document.querySelector('#df-c20da0a4-9dec-4514-901f-a5073fb7a870');\n",
              "          const dataTable =\n",
              "            await google.colab.kernel.invokeFunction('convertToInteractive',\n",
              "                                                     [key], {});\n",
              "          if (!dataTable) return;\n",
              "\n",
              "          const docLinkHtml = 'Like what you see? Visit the ' +\n",
              "            '<a target=\"_blank\" href=https://colab.research.google.com/notebooks/data_table.ipynb>data table notebook</a>'\n",
              "            + ' to learn more about interactive tables.';\n",
              "          element.innerHTML = '';\n",
              "          dataTable['output_type'] = 'display_data';\n",
              "          await google.colab.output.renderOutput(dataTable, element);\n",
              "          const docLink = document.createElement('div');\n",
              "          docLink.innerHTML = docLinkHtml;\n",
              "          element.appendChild(docLink);\n",
              "        }\n",
              "      </script>\n",
              "    </div>\n",
              "  </div>\n",
              "  "
            ],
            "text/plain": [
              "     PassengerId  Survived  Pclass                                       Name  \\\n",
              "61            62       1.0       1                        Icard, Miss. Amelie   \n",
              "829          830       1.0       1  Stone, Mrs. George Nelson (Martha Evelyn)   \n",
              "\n",
              "        Sex   Age  SibSp  Parch  Ticket  Fare Cabin Embarked  \n",
              "61   female  38.0      0      0  113572  80.0   B28      NaN  \n",
              "829  female  62.0      0      0  113572  80.0   B28      NaN  "
            ]
          },
          "metadata": {},
          "execution_count": 12
        }
      ]
    },
    {
      "cell_type": "code",
      "source": [
        "all\n"
      ],
      "metadata": {
        "colab": {
          "base_uri": "https://localhost:8080/",
          "height": 537
        },
        "id": "-1liMuOlu2-5",
        "outputId": "7600c0e5-5b86-40b5-f728-4acf47a9163f"
      },
      "execution_count": 13,
      "outputs": [
        {
          "output_type": "execute_result",
          "data": {
            "text/html": [
              "\n",
              "  <div id=\"df-72a30da3-def1-4d82-b37b-e02cb2d2c741\">\n",
              "    <div class=\"colab-df-container\">\n",
              "      <div>\n",
              "<style scoped>\n",
              "    .dataframe tbody tr th:only-of-type {\n",
              "        vertical-align: middle;\n",
              "    }\n",
              "\n",
              "    .dataframe tbody tr th {\n",
              "        vertical-align: top;\n",
              "    }\n",
              "\n",
              "    .dataframe thead th {\n",
              "        text-align: right;\n",
              "    }\n",
              "</style>\n",
              "<table border=\"1\" class=\"dataframe\">\n",
              "  <thead>\n",
              "    <tr style=\"text-align: right;\">\n",
              "      <th></th>\n",
              "      <th>PassengerId</th>\n",
              "      <th>Survived</th>\n",
              "      <th>Pclass</th>\n",
              "      <th>Name</th>\n",
              "      <th>Sex</th>\n",
              "      <th>Age</th>\n",
              "      <th>SibSp</th>\n",
              "      <th>Parch</th>\n",
              "      <th>Ticket</th>\n",
              "      <th>Fare</th>\n",
              "      <th>Cabin</th>\n",
              "      <th>Embarked</th>\n",
              "    </tr>\n",
              "  </thead>\n",
              "  <tbody>\n",
              "    <tr>\n",
              "      <th>0</th>\n",
              "      <td>1</td>\n",
              "      <td>0.0</td>\n",
              "      <td>3</td>\n",
              "      <td>Braund, Mr. Owen Harris</td>\n",
              "      <td>male</td>\n",
              "      <td>22.0</td>\n",
              "      <td>1</td>\n",
              "      <td>0</td>\n",
              "      <td>A/5 21171</td>\n",
              "      <td>7.2500</td>\n",
              "      <td>NaN</td>\n",
              "      <td>S</td>\n",
              "    </tr>\n",
              "    <tr>\n",
              "      <th>1</th>\n",
              "      <td>2</td>\n",
              "      <td>1.0</td>\n",
              "      <td>1</td>\n",
              "      <td>Cumings, Mrs. John Bradley (Florence Briggs Th...</td>\n",
              "      <td>female</td>\n",
              "      <td>38.0</td>\n",
              "      <td>1</td>\n",
              "      <td>0</td>\n",
              "      <td>PC 17599</td>\n",
              "      <td>71.2833</td>\n",
              "      <td>C85</td>\n",
              "      <td>C</td>\n",
              "    </tr>\n",
              "    <tr>\n",
              "      <th>2</th>\n",
              "      <td>3</td>\n",
              "      <td>1.0</td>\n",
              "      <td>3</td>\n",
              "      <td>Heikkinen, Miss. Laina</td>\n",
              "      <td>female</td>\n",
              "      <td>26.0</td>\n",
              "      <td>0</td>\n",
              "      <td>0</td>\n",
              "      <td>STON/O2. 3101282</td>\n",
              "      <td>7.9250</td>\n",
              "      <td>NaN</td>\n",
              "      <td>S</td>\n",
              "    </tr>\n",
              "    <tr>\n",
              "      <th>3</th>\n",
              "      <td>4</td>\n",
              "      <td>1.0</td>\n",
              "      <td>1</td>\n",
              "      <td>Futrelle, Mrs. Jacques Heath (Lily May Peel)</td>\n",
              "      <td>female</td>\n",
              "      <td>35.0</td>\n",
              "      <td>1</td>\n",
              "      <td>0</td>\n",
              "      <td>113803</td>\n",
              "      <td>53.1000</td>\n",
              "      <td>C123</td>\n",
              "      <td>S</td>\n",
              "    </tr>\n",
              "    <tr>\n",
              "      <th>4</th>\n",
              "      <td>5</td>\n",
              "      <td>0.0</td>\n",
              "      <td>3</td>\n",
              "      <td>Allen, Mr. William Henry</td>\n",
              "      <td>male</td>\n",
              "      <td>35.0</td>\n",
              "      <td>0</td>\n",
              "      <td>0</td>\n",
              "      <td>373450</td>\n",
              "      <td>8.0500</td>\n",
              "      <td>NaN</td>\n",
              "      <td>S</td>\n",
              "    </tr>\n",
              "    <tr>\n",
              "      <th>...</th>\n",
              "      <td>...</td>\n",
              "      <td>...</td>\n",
              "      <td>...</td>\n",
              "      <td>...</td>\n",
              "      <td>...</td>\n",
              "      <td>...</td>\n",
              "      <td>...</td>\n",
              "      <td>...</td>\n",
              "      <td>...</td>\n",
              "      <td>...</td>\n",
              "      <td>...</td>\n",
              "      <td>...</td>\n",
              "    </tr>\n",
              "    <tr>\n",
              "      <th>1304</th>\n",
              "      <td>1305</td>\n",
              "      <td>NaN</td>\n",
              "      <td>3</td>\n",
              "      <td>Spector, Mr. Woolf</td>\n",
              "      <td>male</td>\n",
              "      <td>NaN</td>\n",
              "      <td>0</td>\n",
              "      <td>0</td>\n",
              "      <td>A.5. 3236</td>\n",
              "      <td>8.0500</td>\n",
              "      <td>NaN</td>\n",
              "      <td>S</td>\n",
              "    </tr>\n",
              "    <tr>\n",
              "      <th>1305</th>\n",
              "      <td>1306</td>\n",
              "      <td>NaN</td>\n",
              "      <td>1</td>\n",
              "      <td>Oliva y Ocana, Dona. Fermina</td>\n",
              "      <td>female</td>\n",
              "      <td>39.0</td>\n",
              "      <td>0</td>\n",
              "      <td>0</td>\n",
              "      <td>PC 17758</td>\n",
              "      <td>108.9000</td>\n",
              "      <td>C105</td>\n",
              "      <td>C</td>\n",
              "    </tr>\n",
              "    <tr>\n",
              "      <th>1306</th>\n",
              "      <td>1307</td>\n",
              "      <td>NaN</td>\n",
              "      <td>3</td>\n",
              "      <td>Saether, Mr. Simon Sivertsen</td>\n",
              "      <td>male</td>\n",
              "      <td>38.5</td>\n",
              "      <td>0</td>\n",
              "      <td>0</td>\n",
              "      <td>SOTON/O.Q. 3101262</td>\n",
              "      <td>7.2500</td>\n",
              "      <td>NaN</td>\n",
              "      <td>S</td>\n",
              "    </tr>\n",
              "    <tr>\n",
              "      <th>1307</th>\n",
              "      <td>1308</td>\n",
              "      <td>NaN</td>\n",
              "      <td>3</td>\n",
              "      <td>Ware, Mr. Frederick</td>\n",
              "      <td>male</td>\n",
              "      <td>NaN</td>\n",
              "      <td>0</td>\n",
              "      <td>0</td>\n",
              "      <td>359309</td>\n",
              "      <td>8.0500</td>\n",
              "      <td>NaN</td>\n",
              "      <td>S</td>\n",
              "    </tr>\n",
              "    <tr>\n",
              "      <th>1308</th>\n",
              "      <td>1309</td>\n",
              "      <td>NaN</td>\n",
              "      <td>3</td>\n",
              "      <td>Peter, Master. Michael J</td>\n",
              "      <td>male</td>\n",
              "      <td>NaN</td>\n",
              "      <td>1</td>\n",
              "      <td>1</td>\n",
              "      <td>2668</td>\n",
              "      <td>22.3583</td>\n",
              "      <td>NaN</td>\n",
              "      <td>C</td>\n",
              "    </tr>\n",
              "  </tbody>\n",
              "</table>\n",
              "<p>1309 rows × 12 columns</p>\n",
              "</div>\n",
              "      <button class=\"colab-df-convert\" onclick=\"convertToInteractive('df-72a30da3-def1-4d82-b37b-e02cb2d2c741')\"\n",
              "              title=\"Convert this dataframe to an interactive table.\"\n",
              "              style=\"display:none;\">\n",
              "        \n",
              "  <svg xmlns=\"http://www.w3.org/2000/svg\" height=\"24px\"viewBox=\"0 0 24 24\"\n",
              "       width=\"24px\">\n",
              "    <path d=\"M0 0h24v24H0V0z\" fill=\"none\"/>\n",
              "    <path d=\"M18.56 5.44l.94 2.06.94-2.06 2.06-.94-2.06-.94-.94-2.06-.94 2.06-2.06.94zm-11 1L8.5 8.5l.94-2.06 2.06-.94-2.06-.94L8.5 2.5l-.94 2.06-2.06.94zm10 10l.94 2.06.94-2.06 2.06-.94-2.06-.94-.94-2.06-.94 2.06-2.06.94z\"/><path d=\"M17.41 7.96l-1.37-1.37c-.4-.4-.92-.59-1.43-.59-.52 0-1.04.2-1.43.59L10.3 9.45l-7.72 7.72c-.78.78-.78 2.05 0 2.83L4 21.41c.39.39.9.59 1.41.59.51 0 1.02-.2 1.41-.59l7.78-7.78 2.81-2.81c.8-.78.8-2.07 0-2.86zM5.41 20L4 18.59l7.72-7.72 1.47 1.35L5.41 20z\"/>\n",
              "  </svg>\n",
              "      </button>\n",
              "      \n",
              "  <style>\n",
              "    .colab-df-container {\n",
              "      display:flex;\n",
              "      flex-wrap:wrap;\n",
              "      gap: 12px;\n",
              "    }\n",
              "\n",
              "    .colab-df-convert {\n",
              "      background-color: #E8F0FE;\n",
              "      border: none;\n",
              "      border-radius: 50%;\n",
              "      cursor: pointer;\n",
              "      display: none;\n",
              "      fill: #1967D2;\n",
              "      height: 32px;\n",
              "      padding: 0 0 0 0;\n",
              "      width: 32px;\n",
              "    }\n",
              "\n",
              "    .colab-df-convert:hover {\n",
              "      background-color: #E2EBFA;\n",
              "      box-shadow: 0px 1px 2px rgba(60, 64, 67, 0.3), 0px 1px 3px 1px rgba(60, 64, 67, 0.15);\n",
              "      fill: #174EA6;\n",
              "    }\n",
              "\n",
              "    [theme=dark] .colab-df-convert {\n",
              "      background-color: #3B4455;\n",
              "      fill: #D2E3FC;\n",
              "    }\n",
              "\n",
              "    [theme=dark] .colab-df-convert:hover {\n",
              "      background-color: #434B5C;\n",
              "      box-shadow: 0px 1px 3px 1px rgba(0, 0, 0, 0.15);\n",
              "      filter: drop-shadow(0px 1px 2px rgba(0, 0, 0, 0.3));\n",
              "      fill: #FFFFFF;\n",
              "    }\n",
              "  </style>\n",
              "\n",
              "      <script>\n",
              "        const buttonEl =\n",
              "          document.querySelector('#df-72a30da3-def1-4d82-b37b-e02cb2d2c741 button.colab-df-convert');\n",
              "        buttonEl.style.display =\n",
              "          google.colab.kernel.accessAllowed ? 'block' : 'none';\n",
              "\n",
              "        async function convertToInteractive(key) {\n",
              "          const element = document.querySelector('#df-72a30da3-def1-4d82-b37b-e02cb2d2c741');\n",
              "          const dataTable =\n",
              "            await google.colab.kernel.invokeFunction('convertToInteractive',\n",
              "                                                     [key], {});\n",
              "          if (!dataTable) return;\n",
              "\n",
              "          const docLinkHtml = 'Like what you see? Visit the ' +\n",
              "            '<a target=\"_blank\" href=https://colab.research.google.com/notebooks/data_table.ipynb>data table notebook</a>'\n",
              "            + ' to learn more about interactive tables.';\n",
              "          element.innerHTML = '';\n",
              "          dataTable['output_type'] = 'display_data';\n",
              "          await google.colab.output.renderOutput(dataTable, element);\n",
              "          const docLink = document.createElement('div');\n",
              "          docLink.innerHTML = docLinkHtml;\n",
              "          element.appendChild(docLink);\n",
              "        }\n",
              "      </script>\n",
              "    </div>\n",
              "  </div>\n",
              "  "
            ],
            "text/plain": [
              "      PassengerId  Survived  Pclass  \\\n",
              "0               1       0.0       3   \n",
              "1               2       1.0       1   \n",
              "2               3       1.0       3   \n",
              "3               4       1.0       1   \n",
              "4               5       0.0       3   \n",
              "...           ...       ...     ...   \n",
              "1304         1305       NaN       3   \n",
              "1305         1306       NaN       1   \n",
              "1306         1307       NaN       3   \n",
              "1307         1308       NaN       3   \n",
              "1308         1309       NaN       3   \n",
              "\n",
              "                                                   Name     Sex   Age  SibSp  \\\n",
              "0                               Braund, Mr. Owen Harris    male  22.0      1   \n",
              "1     Cumings, Mrs. John Bradley (Florence Briggs Th...  female  38.0      1   \n",
              "2                                Heikkinen, Miss. Laina  female  26.0      0   \n",
              "3          Futrelle, Mrs. Jacques Heath (Lily May Peel)  female  35.0      1   \n",
              "4                              Allen, Mr. William Henry    male  35.0      0   \n",
              "...                                                 ...     ...   ...    ...   \n",
              "1304                                 Spector, Mr. Woolf    male   NaN      0   \n",
              "1305                       Oliva y Ocana, Dona. Fermina  female  39.0      0   \n",
              "1306                       Saether, Mr. Simon Sivertsen    male  38.5      0   \n",
              "1307                                Ware, Mr. Frederick    male   NaN      0   \n",
              "1308                           Peter, Master. Michael J    male   NaN      1   \n",
              "\n",
              "      Parch              Ticket      Fare Cabin Embarked  \n",
              "0         0           A/5 21171    7.2500   NaN        S  \n",
              "1         0            PC 17599   71.2833   C85        C  \n",
              "2         0    STON/O2. 3101282    7.9250   NaN        S  \n",
              "3         0              113803   53.1000  C123        S  \n",
              "4         0              373450    8.0500   NaN        S  \n",
              "...     ...                 ...       ...   ...      ...  \n",
              "1304      0           A.5. 3236    8.0500   NaN        S  \n",
              "1305      0            PC 17758  108.9000  C105        C  \n",
              "1306      0  SOTON/O.Q. 3101262    7.2500   NaN        S  \n",
              "1307      0              359309    8.0500   NaN        S  \n",
              "1308      1                2668   22.3583   NaN        C  \n",
              "\n",
              "[1309 rows x 12 columns]"
            ]
          },
          "metadata": {},
          "execution_count": 13
        }
      ]
    },
    {
      "cell_type": "markdown",
      "source": [
        "# 特征分析"
      ],
      "metadata": {
        "id": "Mwew63CJmDbg"
      }
    },
    {
      "cell_type": "markdown",
      "source": [
        "### 港口数据分析"
      ],
      "metadata": {
        "id": "EkgnBldbvbEQ"
      }
    },
    {
      "cell_type": "code",
      "source": [
        "sns.set_style(\"whitegrid\")\n",
        "sns.set_palette(sns.color_palette(\"hls\", 8))\n",
        "sns.set_context(\"paper\")\n",
        "\n",
        "sns.barplot(data=train,x='Embarked',y='Survived')\n",
        "#C港口存活率明显高于其他港口"
      ],
      "metadata": {
        "colab": {
          "base_uri": "https://localhost:8080/",
          "height": 298
        },
        "id": "bc4mS7_tmCpc",
        "outputId": "ffd76ed5-c3be-4b23-8cc9-4d05b3e7bb5a"
      },
      "execution_count": 14,
      "outputs": [
        {
          "output_type": "execute_result",
          "data": {
            "text/plain": [
              "<matplotlib.axes._subplots.AxesSubplot at 0x7fee4cb4de10>"
            ]
          },
          "metadata": {},
          "execution_count": 14
        },
        {
          "output_type": "display_data",
          "data": {
            "image/png": "[encoded data removed]",
            "text/plain": [
              "<Figure size 432x288 with 1 Axes>"
            ]
          },
          "metadata": {}
        }
      ]
    },
    {
      "cell_type": "code",
      "source": [
        "#法国登船乘客生存率较高原因可能与其头等舱乘客比例较高有关\n",
        "#但Q港口的存活率也较高，所以存活率可能与港口相关,在处理该特征时把它化为one-hot编码\n",
        "sns.factorplot('Pclass',col='Embarked',data=train,kind='count',size=3)"
      ],
      "metadata": {
        "colab": {
          "base_uri": "https://localhost:8080/",
          "height": 244
        },
        "id": "G9fnZQr9m6UZ",
        "outputId": "98693b0b-3de6-4c58-f3b7-a40d4a82d373"
      },
      "execution_count": 15,
      "outputs": [
        {
          "output_type": "execute_result",
          "data": {
            "text/plain": [
              "<seaborn.axisgrid.FacetGrid at 0x7fee4db34550>"
            ]
          },
          "metadata": {},
          "execution_count": 15
        },
        {
          "output_type": "display_data",
          "data": {
            "image/png": "[encoded data removed]",
            "text/plain": [
              "<Figure size 648x216 with 3 Axes>"
            ]
          },
          "metadata": {}
        }
      ]
    },
    {
      "cell_type": "markdown",
      "source": [
        "### parch分析"
      ],
      "metadata": {
        "id": "d5a8H4zgPQy4"
      }
    },
    {
      "cell_type": "code",
      "source": [
        "\n",
        "sns.barplot(data=train,x='Parch',y='Survived')\n",
        "#parch为1-3的存活率要明显高一些\n",
        "#观察一下parch为1-5的样本量\n",
        "sns.factorplot('Parch',data=train,kind='count',size=5)\n"
      ],
      "metadata": {
        "colab": {
          "base_uri": "https://localhost:8080/",
          "height": 651
        },
        "id": "TdZqRmU5vZuU",
        "outputId": "d00ea15b-a187-45cb-d42a-83881c37f540"
      },
      "execution_count": 16,
      "outputs": [
        {
          "output_type": "execute_result",
          "data": {
            "text/plain": [
              "<seaborn.axisgrid.FacetGrid at 0x7fee4ca7c850>"
            ]
          },
          "metadata": {},
          "execution_count": 16
        },
        {
          "output_type": "display_data",
          "data": {
            "image/png": "[encoded data removed]",
            "text/plain": [
              "<Figure size 432x288 with 1 Axes>"
            ]
          },
          "metadata": {}
        },
        {
          "output_type": "display_data",
          "data": {
            "image/png": "[encoded data removed]",
            "text/plain": [
              "<Figure size 360x360 with 1 Axes>"
            ]
          },
          "metadata": {}
        }
      ]
    },
    {
      "cell_type": "markdown",
      "source": [
        "### sibsp分析"
      ],
      "metadata": {
        "id": "ZCfr5ExoPUdM"
      }
    },
    {
      "cell_type": "code",
      "source": [
        "sns.barplot(data=train,x='SibSp',y='Survived')\n",
        "sns.factorplot('SibSp',data=train,kind='count',size=5)"
      ],
      "metadata": {
        "colab": {
          "base_uri": "https://localhost:8080/",
          "height": 651
        },
        "id": "A_wh_fcr60m5",
        "outputId": "cc28d49e-678e-428c-8424-b844e5d64824"
      },
      "execution_count": 17,
      "outputs": [
        {
          "output_type": "execute_result",
          "data": {
            "text/plain": [
              "<seaborn.axisgrid.FacetGrid at 0x7fee4a4a3f90>"
            ]
          },
          "metadata": {},
          "execution_count": 17
        },
        {
          "output_type": "display_data",
          "data": {
            "image/png": "[encoded data removed]",
            "text/plain": [
              "<Figure size 432x288 with 1 Axes>"
            ]
          },
          "metadata": {}
        },
        {
          "output_type": "display_data",
          "data": {
            "image/png": "[encoded data removed]",
            "text/plain": [
              "<Figure size 360x360 with 1 Axes>"
            ]
          },
          "metadata": {}
        }
      ]
    },
    {
      "cell_type": "markdown",
      "source": [
        "### Pclass分析"
      ],
      "metadata": {
        "id": "6jfYssF8Pbah"
      }
    },
    {
      "cell_type": "code",
      "source": [
        "sns.barplot(data=train,x='Pclass',y='Survived')"
      ],
      "metadata": {
        "colab": {
          "base_uri": "https://localhost:8080/",
          "height": 298
        },
        "id": "YcO9nonG-e_Y",
        "outputId": "fd076210-d389-4747-f290-cb514fc78f46"
      },
      "execution_count": 18,
      "outputs": [
        {
          "output_type": "execute_result",
          "data": {
            "text/plain": [
              "<matplotlib.axes._subplots.AxesSubplot at 0x7fee4a3b71d0>"
            ]
          },
          "metadata": {},
          "execution_count": 18
        },
        {
          "output_type": "display_data",
          "data": {
            "image/png": "[encoded data removed]",
            "text/plain": [
              "<Figure size 432x288 with 1 Axes>"
            ]
          },
          "metadata": {}
        }
      ]
    },
    {
      "cell_type": "markdown",
      "source": [
        "### sex分析"
      ],
      "metadata": {
        "id": "RavGwpn0Pemy"
      }
    },
    {
      "cell_type": "code",
      "source": [
        "sns.barplot(data=train,x='Sex',y='Survived')"
      ],
      "metadata": {
        "colab": {
          "base_uri": "https://localhost:8080/",
          "height": 298
        },
        "id": "K3SnucVL-fGR",
        "outputId": "09e0eef0-fe0b-47f4-ff46-b1018f33d1f7"
      },
      "execution_count": 19,
      "outputs": [
        {
          "output_type": "execute_result",
          "data": {
            "text/plain": [
              "<matplotlib.axes._subplots.AxesSubplot at 0x7fee4a2e0150>"
            ]
          },
          "metadata": {},
          "execution_count": 19
        },
        {
          "output_type": "display_data",
          "data": {
            "image/png": "[encoded data removed]",
            "text/plain": [
              "<Figure size 432x288 with 1 Axes>"
            ]
          },
          "metadata": {}
        }
      ]
    },
    {
      "cell_type": "code",
      "source": [
        "#查看fare分布\n",
        "farePlot=sns.distplot(all['Fare'][all['Fare'].notnull()],label='skewness:%.2f'%(all['Fare'].skew()))\n",
        "farePlot.legend(loc='best')"
      ],
      "metadata": {
        "colab": {
          "base_uri": "https://localhost:8080/",
          "height": 298
        },
        "id": "lbL5qIAnBfoc",
        "outputId": "fbb742ac-1046-4c02-e380-50dcebd24333"
      },
      "execution_count": 20,
      "outputs": [
        {
          "output_type": "execute_result",
          "data": {
            "text/plain": [
              "<matplotlib.legend.Legend at 0x7fee4a2093d0>"
            ]
          },
          "metadata": {},
          "execution_count": 20
        },
        {
          "output_type": "display_data",
          "data": {
            "image/png": "[encoded data removed]",
            "text/plain": [
              "<Figure size 432x288 with 1 Axes>"
            ]
          },
          "metadata": {}
        }
      ]
    },
    {
      "cell_type": "markdown",
      "source": [
        "# 数据清洗"
      ],
      "metadata": {
        "id": "evlVdAXfPn9U"
      }
    },
    {
      "cell_type": "markdown",
      "source": [
        "### 码头数据缺失值填充"
      ],
      "metadata": {
        "id": "JqtKJbVePuV3"
      }
    },
    {
      "cell_type": "code",
      "source": [
        "all['Embarked'].value_counts(normalize=True)\n",
        "#大部分的乘客目的地都是S\n",
        "#我们用S填充缺失值\n",
        "all.loc[all[\"Embarked\"].isnull(),[\"Embarked\"]]=\"S\"\n",
        "all.info()"
      ],
      "metadata": {
        "id": "jwac8GCanX5S",
        "colab": {
          "base_uri": "https://localhost:8080/"
        },
        "outputId": "a8d576aa-b500-42ed-facc-9a47fa038918"
      },
      "execution_count": 21,
      "outputs": [
        {
          "output_type": "stream",
          "name": "stdout",
          "text": [
            "<class 'pandas.core.frame.DataFrame'>\n",
            "RangeIndex: 1309 entries, 0 to 1308\n",
            "Data columns (total 12 columns):\n",
            " #   Column       Non-Null Count  Dtype  \n",
            "---  ------       --------------  -----  \n",
            " 0   PassengerId  1309 non-null   int64  \n",
            " 1   Survived     891 non-null    float64\n",
            " 2   Pclass       1309 non-null   int64  \n",
            " 3   Name         1309 non-null   object \n",
            " 4   Sex          1309 non-null   object \n",
            " 5   Age          1046 non-null   float64\n",
            " 6   SibSp        1309 non-null   int64  \n",
            " 7   Parch        1309 non-null   int64  \n",
            " 8   Ticket       1309 non-null   object \n",
            " 9   Fare         1308 non-null   float64\n",
            " 10  Cabin        295 non-null    object \n",
            " 11  Embarked     1309 non-null   object \n",
            "dtypes: float64(3), int64(4), object(5)\n",
            "memory usage: 122.8+ KB\n"
          ]
        }
      ]
    },
    {
      "cell_type": "markdown",
      "source": [
        "### 根据pclass对Fare缺失值进行填充"
      ],
      "metadata": {
        "id": "QnARGnfFNSdx"
      }
    },
    {
      "cell_type": "code",
      "source": [
        "\n",
        "\"\"\"可以看到Fare与阶级线性相关性很大，我们利用Fare缺失值的阶级对他进行填充\"\"\"\n",
        "\n",
        "\n",
        "AgeCorrDf=pd.DataFrame()\n",
        "AgeCorrDf=all.corr()\n",
        "AgeCorrDf['Fare'].sort_values()\n",
        "\n",
        "#得到缺失值旅客是第三阶级的\n",
        "all[all[\"Fare\"].isnull()]\n",
        "\n",
        "#用第三阶级的Fare平均值对缺失的Fare进行填充\n",
        "tmean=all[\"Fare\"][all[\"Pclass\"]==3].mean()\n",
        "all.loc[all[\"Fare\"].isnull(),[\"Fare\"]]=tmean\n"
      ],
      "metadata": {
        "id": "A68C2zhfMpBy"
      },
      "execution_count": 22,
      "outputs": []
    },
    {
      "cell_type": "code",
      "source": [
        "all.info()"
      ],
      "metadata": {
        "colab": {
          "base_uri": "https://localhost:8080/"
        },
        "id": "mA9Y79kDw1Pn",
        "outputId": "7373d961-1635-4f33-9200-9475bc9a8565"
      },
      "execution_count": 23,
      "outputs": [
        {
          "output_type": "stream",
          "name": "stdout",
          "text": [
            "<class 'pandas.core.frame.DataFrame'>\n",
            "RangeIndex: 1309 entries, 0 to 1308\n",
            "Data columns (total 12 columns):\n",
            " #   Column       Non-Null Count  Dtype  \n",
            "---  ------       --------------  -----  \n",
            " 0   PassengerId  1309 non-null   int64  \n",
            " 1   Survived     891 non-null    float64\n",
            " 2   Pclass       1309 non-null   int64  \n",
            " 3   Name         1309 non-null   object \n",
            " 4   Sex          1309 non-null   object \n",
            " 5   Age          1046 non-null   float64\n",
            " 6   SibSp        1309 non-null   int64  \n",
            " 7   Parch        1309 non-null   int64  \n",
            " 8   Ticket       1309 non-null   object \n",
            " 9   Fare         1309 non-null   float64\n",
            " 10  Cabin        295 non-null    object \n",
            " 11  Embarked     1309 non-null   object \n",
            "dtypes: float64(3), int64(4), object(5)\n",
            "memory usage: 122.8+ KB\n"
          ]
        }
      ]
    },
    {
      "cell_type": "markdown",
      "source": [
        "# 特征工程"
      ],
      "metadata": {
        "id": "25ja_rkNURNh"
      }
    },
    {
      "cell_type": "markdown",
      "source": [
        "### Fare对数化处理"
      ],
      "metadata": {
        "id": "9aC2cHxJHkJK"
      }
    },
    {
      "cell_type": "code",
      "source": [
        "#fare数据呈左偏分布\n",
        "#对数化处理fare值\n",
        "all['log_Fare']=all['Fare'].map(lambda x: np.log(x) if x>0 else 0)\n"
      ],
      "metadata": {
        "id": "hRDeTO9zCzAT"
      },
      "execution_count": 24,
      "outputs": []
    },
    {
      "cell_type": "markdown",
      "source": [
        "### SibSp分两类处理 "
      ],
      "metadata": {
        "id": "ZF9KBqkzVafR"
      }
    },
    {
      "cell_type": "code",
      "source": [
        "def sibsp_group(num):\n",
        "  if num==3 or num==4 or num==5 or num==8 or num==0:\n",
        "    return 0\n",
        "  \n",
        "  else :\n",
        "    return 1 \n",
        "\n",
        "\n",
        "all[\"group_sibsp\"]=all[\"SibSp\"].map(sibsp_group)"
      ],
      "metadata": {
        "id": "y_OugDrmVsbV"
      },
      "execution_count": 25,
      "outputs": []
    },
    {
      "cell_type": "markdown",
      "source": [
        "### Parch分两类处理"
      ],
      "metadata": {
        "id": "fQYB2aUW0LD6"
      }
    },
    {
      "cell_type": "code",
      "source": [
        "def parch_group(num):\n",
        "\n",
        "  if num==1 or num==3 or num ==2:\n",
        "    return 1\n",
        " \n",
        "  else :\n",
        "    return 0\n",
        "all[\"group_parch\"]=all[\"Parch\"].map(parch_group)"
      ],
      "metadata": {
        "id": "JapDF9xI0PJq"
      },
      "execution_count": 26,
      "outputs": []
    },
    {
      "cell_type": "markdown",
      "source": [
        "### Cabin特征分两类处理"
      ],
      "metadata": {
        "id": "DJ9uyFj4S06w"
      }
    },
    {
      "cell_type": "code",
      "source": [
        "t=train[\"Survived\"][train[\"Cabin\"].notnull()]\n",
        "t.value_counts(normalize=True)\n",
        "all[\"Survived\"].value_counts(normalize=True)\n",
        "t=train[\"Survived\"][train[\"Cabin\"].isnull()]\n",
        "t.value_counts(normalize=True)\n",
        "\n",
        "#有Cabin和无Cabin存活率变化7%\n",
        "\n",
        "\n",
        "all['Cabin'].replace(np.NaN,0,inplace=True) #把Na值替换为0\n",
        "all['1_Cabin']=all['Cabin'].map(lambda x: 1 if x!=0 else 0) #把剩下的有cabin的数据存为1\n",
        "all[\"C_Cabin\"]=all['Cabin'].map(lambda x:str(x)[0])  #把有Cabin的数据的首字符提出来\n",
        "# print(all[\"C_Cabin\"].value_counts())\n",
        "sns.barplot(data=all,x=\"C_Cabin\",y='Survived')\n",
        "sns.factorplot('C_Cabin',data=all,kind='count',size=5)\n",
        "\n"
      ],
      "metadata": {
        "colab": {
          "base_uri": "https://localhost:8080/",
          "height": 652
        },
        "id": "KhmYb6GyX2Qz",
        "outputId": "48d10689-4195-45f6-83a0-a34fa887499e"
      },
      "execution_count": 27,
      "outputs": [
        {
          "output_type": "execute_result",
          "data": {
            "text/plain": [
              "<seaborn.axisgrid.FacetGrid at 0x7fee4ca8be90>"
            ]
          },
          "metadata": {},
          "execution_count": 27
        },
        {
          "output_type": "display_data",
          "data": {
            "image/png": "[encoded data removed]",
            "text/plain": [
              "<Figure size 432x288 with 1 Axes>"
            ]
          },
          "metadata": {}
        },
        {
          "output_type": "display_data",
          "data": {
            "image/png": "[encoded data removed]",
            "text/plain": [
              "<Figure size 360x360 with 1 Axes>"
            ]
          },
          "metadata": {}
        }
      ]
    },
    {
      "cell_type": "markdown",
      "source": [
        "### 在名字中提取信息"
      ],
      "metadata": {
        "id": "BYwuOdVRm_iS"
      }
    },
    {
      "cell_type": "code",
      "source": [
        "all['Name'].map(lambda x:x.split(',')[1].split('.')[0].strip()).value_counts() \n",
        "all[\"Title\"]=all['Name'].map(lambda x:x.split(',')[1].split('.')[0].strip())\n",
        "\n",
        "title_dict={}\n",
        "title_dict[\"Mr\"]=\"Mr\"\n",
        "title_dict[\"Miss\"]=\"Miss\"\n",
        "title_dict[\"Mrs\"]=\"Mrs\"\n",
        "title_dict[\"Rev\"]=\"Royalty\"\n",
        "title_dict[\"Dr\"]=\"Royalty\"\n",
        "title_dict[\"Master\"]=\"Royalty\"\n",
        "title_dict[\"Col\"]=\"Royalty\"\n",
        "title_dict[\"Mlle\"]=\"Miss\"\n",
        "title_dict[\"Major\"]=\"Royalty\"\n",
        "title_dict[\"Ms\"]=\"Miss\" #归为女性最多的一类\n",
        "title_dict[\"Lady\"]=\"Royalty\"\n",
        "title_dict[\"Sir\"]=\"Royalty\"\n",
        "title_dict[\"Mme\"]=\"Royalty\"\n",
        "title_dict[\"Don\"]=\"Royalty\"\n",
        "title_dict[\"Capt\"]=\"Royalty\"\n",
        "title_dict[\"the Countess\"]=\"Royalty\"\n",
        "title_dict[\"Jonkheer\"]=\"Royalty\"\n",
        "title_dict[\"Dona\"]=\"Royalty\"\n",
        "\n",
        "all[\"Title\"]=all[\"Title\"].map(title_dict)\n",
        "all['Title'].value_counts()"
      ],
      "metadata": {
        "colab": {
          "base_uri": "https://localhost:8080/"
        },
        "id": "tBGuivPx455p",
        "outputId": "112b22a4-1c2c-480a-f86c-475e6724b13f"
      },
      "execution_count": 28,
      "outputs": [
        {
          "output_type": "execute_result",
          "data": {
            "text/plain": [
              "Mr         757\n",
              "Miss       264\n",
              "Mrs        197\n",
              "Royalty     91\n",
              "Name: Title, dtype: int64"
            ]
          },
          "metadata": {},
          "execution_count": 28
        }
      ]
    },
    {
      "cell_type": "markdown",
      "source": [
        "### 提取车票中的信息"
      ],
      "metadata": {
        "id": "KmFkexaPHhPd"
      }
    },
    {
      "cell_type": "code",
      "source": [
        "ticnum_dict=all['Ticket'].value_counts()\n",
        "all[\"Ticket_count\"]=all[\"Ticket\"].map(ticnum_dict)\n",
        "all[\"Ticket\"].map(ticnum_dict).value_counts()\n",
        "sns.barplot(data=all,x=\"Ticket_count\",y='Survived')\n",
        "plt.show()\n",
        "#相同车票人数为2，3，4时存活率较高\n",
        "#我们把车票人数分为两类\n",
        "def ticke_num_group(num):\n",
        "  if (num==2) or (num==3) or (num==4):\n",
        "    return 1\n",
        "  else:\n",
        "    return 0\n",
        "\n",
        "\n",
        "all[\"Tiket_cat\"]=all[\"Ticket_count\"].map(ticke_num_group)\n",
        "sns.barplot(data=all,x=\"Tiket_cat\",y='Survived')"
      ],
      "metadata": {
        "colab": {
          "base_uri": "https://localhost:8080/",
          "height": 563
        },
        "id": "4-KTUDsQIHiI",
        "outputId": "408a6267-8c54-44bc-911c-e06f2acbb0d2"
      },
      "execution_count": 29,
      "outputs": [
        {
          "output_type": "display_data",
          "data": {
            "image/png": "[encoded data removed]",
            "text/plain": [
              "<Figure size 432x288 with 1 Axes>"
            ]
          },
          "metadata": {}
        },
        {
          "output_type": "execute_result",
          "data": {
            "text/plain": [
              "<matplotlib.axes._subplots.AxesSubplot at 0x7fee4a064e50>"
            ]
          },
          "metadata": {},
          "execution_count": 29
        },
        {
          "output_type": "display_data",
          "data": {
            "image/png": "[encoded data removed]",
            "text/plain": [
              "<Figure size 432x288 with 1 Axes>"
            ]
          },
          "metadata": {}
        }
      ]
    },
    {
      "cell_type": "markdown",
      "source": [
        "### 提取同行的人数（parch+sibsp）"
      ],
      "metadata": {
        "id": "6yu3HjB63MSI"
      }
    },
    {
      "cell_type": "code",
      "source": [
        "all['familynum']=all['Parch']+all['SibSp']\n",
        "#查看familyNum与Survived\n",
        "sns.barplot(data=all,x='familynum',y='Survived')\n",
        "sns.factorplot('familynum',data=all,kind='count',size=5)\n",
        "\n",
        "\n",
        "#分成两类\n",
        "def group_familynum(num):\n",
        "  if num==1 or num==2 or num==3:\n",
        "    return 1\n",
        "  else :\n",
        "    return 0\n",
        "all[\"group_familynum\"]=all['familynum'].map(group_familynum)"
      ],
      "metadata": {
        "colab": {
          "base_uri": "https://localhost:8080/",
          "height": 633
        },
        "id": "vdyZmsmZ3XIw",
        "outputId": "b2a1d6c7-960f-4885-af80-34d6ca02489c"
      },
      "execution_count": 30,
      "outputs": [
        {
          "output_type": "display_data",
          "data": {
            "image/png": "[encoded data removed]",
            "text/plain": [
              "<Figure size 432x288 with 1 Axes>"
            ]
          },
          "metadata": {}
        },
        {
          "output_type": "display_data",
          "data": {
            "image/png": "[encoded data removed]",
            "text/plain": [
              "<Figure size 360x360 with 1 Axes>"
            ]
          },
          "metadata": {}
        }
      ]
    },
    {
      "cell_type": "markdown",
      "source": [
        "### 用knn对缺失的Age进行填充"
      ],
      "metadata": {
        "id": "q9cK3ib5gnjQ"
      }
    },
    {
      "cell_type": "code",
      "source": [
        "all"
      ],
      "metadata": {
        "colab": {
          "base_uri": "https://localhost:8080/",
          "height": 921
        },
        "id": "Srea_bOcTQa5",
        "outputId": "876c981d-1bf6-43f5-93a2-aa859e028541"
      },
      "execution_count": 31,
      "outputs": [
        {
          "output_type": "execute_result",
          "data": {
            "text/html": [
              "\n",
              "  <div id=\"df-4d8b1c30-ca52-4ba1-8072-3e83d5260dc6\">\n",
              "    <div class=\"colab-df-container\">\n",
              "      <div>\n",
              "<style scoped>\n",
              "    .dataframe tbody tr th:only-of-type {\n",
              "        vertical-align: middle;\n",
              "    }\n",
              "\n",
              "    .dataframe tbody tr th {\n",
              "        vertical-align: top;\n",
              "    }\n",
              "\n",
              "    .dataframe thead th {\n",
              "        text-align: right;\n",
              "    }\n",
              "</style>\n",
              "<table border=\"1\" class=\"dataframe\">\n",
              "  <thead>\n",
              "    <tr style=\"text-align: right;\">\n",
              "      <th></th>\n",
              "      <th>PassengerId</th>\n",
              "      <th>Survived</th>\n",
              "      <th>Pclass</th>\n",
              "      <th>Name</th>\n",
              "      <th>Sex</th>\n",
              "      <th>Age</th>\n",
              "      <th>SibSp</th>\n",
              "      <th>Parch</th>\n",
              "      <th>Ticket</th>\n",
              "      <th>Fare</th>\n",
              "      <th>...</th>\n",
              "      <th>log_Fare</th>\n",
              "      <th>group_sibsp</th>\n",
              "      <th>group_parch</th>\n",
              "      <th>1_Cabin</th>\n",
              "      <th>C_Cabin</th>\n",
              "      <th>Title</th>\n",
              "      <th>Ticket_count</th>\n",
              "      <th>Tiket_cat</th>\n",
              "      <th>familynum</th>\n",
              "      <th>group_familynum</th>\n",
              "    </tr>\n",
              "  </thead>\n",
              "  <tbody>\n",
              "    <tr>\n",
              "      <th>0</th>\n",
              "      <td>1</td>\n",
              "      <td>0.0</td>\n",
              "      <td>3</td>\n",
              "      <td>Braund, Mr. Owen Harris</td>\n",
              "      <td>male</td>\n",
              "      <td>22.0</td>\n",
              "      <td>1</td>\n",
              "      <td>0</td>\n",
              "      <td>A/5 21171</td>\n",
              "      <td>7.2500</td>\n",
              "      <td>...</td>\n",
              "      <td>1.981001</td>\n",
              "      <td>1</td>\n",
              "      <td>0</td>\n",
              "      <td>0</td>\n",
              "      <td>0</td>\n",
              "      <td>Mr</td>\n",
              "      <td>1</td>\n",
              "      <td>0</td>\n",
              "      <td>1</td>\n",
              "      <td>1</td>\n",
              "    </tr>\n",
              "    <tr>\n",
              "      <th>1</th>\n",
              "      <td>2</td>\n",
              "      <td>1.0</td>\n",
              "      <td>1</td>\n",
              "      <td>Cumings, Mrs. John Bradley (Florence Briggs Th...</td>\n",
              "      <td>female</td>\n",
              "      <td>38.0</td>\n",
              "      <td>1</td>\n",
              "      <td>0</td>\n",
              "      <td>PC 17599</td>\n",
              "      <td>71.2833</td>\n",
              "      <td>...</td>\n",
              "      <td>4.266662</td>\n",
              "      <td>1</td>\n",
              "      <td>0</td>\n",
              "      <td>1</td>\n",
              "      <td>C</td>\n",
              "      <td>Mrs</td>\n",
              "      <td>2</td>\n",
              "      <td>1</td>\n",
              "      <td>1</td>\n",
              "      <td>1</td>\n",
              "    </tr>\n",
              "    <tr>\n",
              "      <th>2</th>\n",
              "      <td>3</td>\n",
              "      <td>1.0</td>\n",
              "      <td>3</td>\n",
              "      <td>Heikkinen, Miss. Laina</td>\n",
              "      <td>female</td>\n",
              "      <td>26.0</td>\n",
              "      <td>0</td>\n",
              "      <td>0</td>\n",
              "      <td>STON/O2. 3101282</td>\n",
              "      <td>7.9250</td>\n",
              "      <td>...</td>\n",
              "      <td>2.070022</td>\n",
              "      <td>0</td>\n",
              "      <td>0</td>\n",
              "      <td>0</td>\n",
              "      <td>0</td>\n",
              "      <td>Miss</td>\n",
              "      <td>1</td>\n",
              "      <td>0</td>\n",
              "      <td>0</td>\n",
              "      <td>0</td>\n",
              "    </tr>\n",
              "    <tr>\n",
              "      <th>3</th>\n",
              "      <td>4</td>\n",
              "      <td>1.0</td>\n",
              "      <td>1</td>\n",
              "      <td>Futrelle, Mrs. Jacques Heath (Lily May Peel)</td>\n",
              "      <td>female</td>\n",
              "      <td>35.0</td>\n",
              "      <td>1</td>\n",
              "      <td>0</td>\n",
              "      <td>113803</td>\n",
              "      <td>53.1000</td>\n",
              "      <td>...</td>\n",
              "      <td>3.972177</td>\n",
              "      <td>1</td>\n",
              "      <td>0</td>\n",
              "      <td>1</td>\n",
              "      <td>C</td>\n",
              "      <td>Mrs</td>\n",
              "      <td>2</td>\n",
              "      <td>1</td>\n",
              "      <td>1</td>\n",
              "      <td>1</td>\n",
              "    </tr>\n",
              "    <tr>\n",
              "      <th>4</th>\n",
              "      <td>5</td>\n",
              "      <td>0.0</td>\n",
              "      <td>3</td>\n",
              "      <td>Allen, Mr. William Henry</td>\n",
              "      <td>male</td>\n",
              "      <td>35.0</td>\n",
              "      <td>0</td>\n",
              "      <td>0</td>\n",
              "      <td>373450</td>\n",
              "      <td>8.0500</td>\n",
              "      <td>...</td>\n",
              "      <td>2.085672</td>\n",
              "      <td>0</td>\n",
              "      <td>0</td>\n",
              "      <td>0</td>\n",
              "      <td>0</td>\n",
              "      <td>Mr</td>\n",
              "      <td>1</td>\n",
              "      <td>0</td>\n",
              "      <td>0</td>\n",
              "      <td>0</td>\n",
              "    </tr>\n",
              "    <tr>\n",
              "      <th>...</th>\n",
              "      <td>...</td>\n",
              "      <td>...</td>\n",
              "      <td>...</td>\n",
              "      <td>...</td>\n",
              "      <td>...</td>\n",
              "      <td>...</td>\n",
              "      <td>...</td>\n",
              "      <td>...</td>\n",
              "      <td>...</td>\n",
              "      <td>...</td>\n",
              "      <td>...</td>\n",
              "      <td>...</td>\n",
              "      <td>...</td>\n",
              "      <td>...</td>\n",
              "      <td>...</td>\n",
              "      <td>...</td>\n",
              "      <td>...</td>\n",
              "      <td>...</td>\n",
              "      <td>...</td>\n",
              "      <td>...</td>\n",
              "      <td>...</td>\n",
              "    </tr>\n",
              "    <tr>\n",
              "      <th>1304</th>\n",
              "      <td>1305</td>\n",
              "      <td>NaN</td>\n",
              "      <td>3</td>\n",
              "      <td>Spector, Mr. Woolf</td>\n",
              "      <td>male</td>\n",
              "      <td>NaN</td>\n",
              "      <td>0</td>\n",
              "      <td>0</td>\n",
              "      <td>A.5. 3236</td>\n",
              "      <td>8.0500</td>\n",
              "      <td>...</td>\n",
              "      <td>2.085672</td>\n",
              "      <td>0</td>\n",
              "      <td>0</td>\n",
              "      <td>0</td>\n",
              "      <td>0</td>\n",
              "      <td>Mr</td>\n",
              "      <td>1</td>\n",
              "      <td>0</td>\n",
              "      <td>0</td>\n",
              "      <td>0</td>\n",
              "    </tr>\n",
              "    <tr>\n",
              "      <th>1305</th>\n",
              "      <td>1306</td>\n",
              "      <td>NaN</td>\n",
              "      <td>1</td>\n",
              "      <td>Oliva y Ocana, Dona. Fermina</td>\n",
              "      <td>female</td>\n",
              "      <td>39.0</td>\n",
              "      <td>0</td>\n",
              "      <td>0</td>\n",
              "      <td>PC 17758</td>\n",
              "      <td>108.9000</td>\n",
              "      <td>...</td>\n",
              "      <td>4.690430</td>\n",
              "      <td>0</td>\n",
              "      <td>0</td>\n",
              "      <td>1</td>\n",
              "      <td>C</td>\n",
              "      <td>Royalty</td>\n",
              "      <td>3</td>\n",
              "      <td>1</td>\n",
              "      <td>0</td>\n",
              "      <td>0</td>\n",
              "    </tr>\n",
              "    <tr>\n",
              "      <th>1306</th>\n",
              "      <td>1307</td>\n",
              "      <td>NaN</td>\n",
              "      <td>3</td>\n",
              "      <td>Saether, Mr. Simon Sivertsen</td>\n",
              "      <td>male</td>\n",
              "      <td>38.5</td>\n",
              "      <td>0</td>\n",
              "      <td>0</td>\n",
              "      <td>SOTON/O.Q. 3101262</td>\n",
              "      <td>7.2500</td>\n",
              "      <td>...</td>\n",
              "      <td>1.981001</td>\n",
              "      <td>0</td>\n",
              "      <td>0</td>\n",
              "      <td>0</td>\n",
              "      <td>0</td>\n",
              "      <td>Mr</td>\n",
              "      <td>1</td>\n",
              "      <td>0</td>\n",
              "      <td>0</td>\n",
              "      <td>0</td>\n",
              "    </tr>\n",
              "    <tr>\n",
              "      <th>1307</th>\n",
              "      <td>1308</td>\n",
              "      <td>NaN</td>\n",
              "      <td>3</td>\n",
              "      <td>Ware, Mr. Frederick</td>\n",
              "      <td>male</td>\n",
              "      <td>NaN</td>\n",
              "      <td>0</td>\n",
              "      <td>0</td>\n",
              "      <td>359309</td>\n",
              "      <td>8.0500</td>\n",
              "      <td>...</td>\n",
              "      <td>2.085672</td>\n",
              "      <td>0</td>\n",
              "      <td>0</td>\n",
              "      <td>0</td>\n",
              "      <td>0</td>\n",
              "      <td>Mr</td>\n",
              "      <td>1</td>\n",
              "      <td>0</td>\n",
              "      <td>0</td>\n",
              "      <td>0</td>\n",
              "    </tr>\n",
              "    <tr>\n",
              "      <th>1308</th>\n",
              "      <td>1309</td>\n",
              "      <td>NaN</td>\n",
              "      <td>3</td>\n",
              "      <td>Peter, Master. Michael J</td>\n",
              "      <td>male</td>\n",
              "      <td>NaN</td>\n",
              "      <td>1</td>\n",
              "      <td>1</td>\n",
              "      <td>2668</td>\n",
              "      <td>22.3583</td>\n",
              "      <td>...</td>\n",
              "      <td>3.107198</td>\n",
              "      <td>1</td>\n",
              "      <td>1</td>\n",
              "      <td>0</td>\n",
              "      <td>0</td>\n",
              "      <td>Royalty</td>\n",
              "      <td>3</td>\n",
              "      <td>1</td>\n",
              "      <td>2</td>\n",
              "      <td>1</td>\n",
              "    </tr>\n",
              "  </tbody>\n",
              "</table>\n",
              "<p>1309 rows × 22 columns</p>\n",
              "</div>\n",
              "      <button class=\"colab-df-convert\" onclick=\"convertToInteractive('df-4d8b1c30-ca52-4ba1-8072-3e83d5260dc6')\"\n",
              "              title=\"Convert this dataframe to an interactive table.\"\n",
              "              style=\"display:none;\">\n",
              "        \n",
              "  <svg xmlns=\"http://www.w3.org/2000/svg\" height=\"24px\"viewBox=\"0 0 24 24\"\n",
              "       width=\"24px\">\n",
              "    <path d=\"M0 0h24v24H0V0z\" fill=\"none\"/>\n",
              "    <path d=\"M18.56 5.44l.94 2.06.94-2.06 2.06-.94-2.06-.94-.94-2.06-.94 2.06-2.06.94zm-11 1L8.5 8.5l.94-2.06 2.06-.94-2.06-.94L8.5 2.5l-.94 2.06-2.06.94zm10 10l.94 2.06.94-2.06 2.06-.94-2.06-.94-.94-2.06-.94 2.06-2.06.94z\"/><path d=\"M17.41 7.96l-1.37-1.37c-.4-.4-.92-.59-1.43-.59-.52 0-1.04.2-1.43.59L10.3 9.45l-7.72 7.72c-.78.78-.78 2.05 0 2.83L4 21.41c.39.39.9.59 1.41.59.51 0 1.02-.2 1.41-.59l7.78-7.78 2.81-2.81c.8-.78.8-2.07 0-2.86zM5.41 20L4 18.59l7.72-7.72 1.47 1.35L5.41 20z\"/>\n",
              "  </svg>\n",
              "      </button>\n",
              "      \n",
              "  <style>\n",
              "    .colab-df-container {\n",
              "      display:flex;\n",
              "      flex-wrap:wrap;\n",
              "      gap: 12px;\n",
              "    }\n",
              "\n",
              "    .colab-df-convert {\n",
              "      background-color: #E8F0FE;\n",
              "      border: none;\n",
              "      border-radius: 50%;\n",
              "      cursor: pointer;\n",
              "      display: none;\n",
              "      fill: #1967D2;\n",
              "      height: 32px;\n",
              "      padding: 0 0 0 0;\n",
              "      width: 32px;\n",
              "    }\n",
              "\n",
              "    .colab-df-convert:hover {\n",
              "      background-color: #E2EBFA;\n",
              "      box-shadow: 0px 1px 2px rgba(60, 64, 67, 0.3), 0px 1px 3px 1px rgba(60, 64, 67, 0.15);\n",
              "      fill: #174EA6;\n",
              "    }\n",
              "\n",
              "    [theme=dark] .colab-df-convert {\n",
              "      background-color: #3B4455;\n",
              "      fill: #D2E3FC;\n",
              "    }\n",
              "\n",
              "    [theme=dark] .colab-df-convert:hover {\n",
              "      background-color: #434B5C;\n",
              "      box-shadow: 0px 1px 3px 1px rgba(0, 0, 0, 0.15);\n",
              "      filter: drop-shadow(0px 1px 2px rgba(0, 0, 0, 0.3));\n",
              "      fill: #FFFFFF;\n",
              "    }\n",
              "  </style>\n",
              "\n",
              "      <script>\n",
              "        const buttonEl =\n",
              "          document.querySelector('#df-4d8b1c30-ca52-4ba1-8072-3e83d5260dc6 button.colab-df-convert');\n",
              "        buttonEl.style.display =\n",
              "          google.colab.kernel.accessAllowed ? 'block' : 'none';\n",
              "\n",
              "        async function convertToInteractive(key) {\n",
              "          const element = document.querySelector('#df-4d8b1c30-ca52-4ba1-8072-3e83d5260dc6');\n",
              "          const dataTable =\n",
              "            await google.colab.kernel.invokeFunction('convertToInteractive',\n",
              "                                                     [key], {});\n",
              "          if (!dataTable) return;\n",
              "\n",
              "          const docLinkHtml = 'Like what you see? Visit the ' +\n",
              "            '<a target=\"_blank\" href=https://colab.research.google.com/notebooks/data_table.ipynb>data table notebook</a>'\n",
              "            + ' to learn more about interactive tables.';\n",
              "          element.innerHTML = '';\n",
              "          dataTable['output_type'] = 'display_data';\n",
              "          await google.colab.output.renderOutput(dataTable, element);\n",
              "          const docLink = document.createElement('div');\n",
              "          docLink.innerHTML = docLinkHtml;\n",
              "          element.appendChild(docLink);\n",
              "        }\n",
              "      </script>\n",
              "    </div>\n",
              "  </div>\n",
              "  "
            ],
            "text/plain": [
              "      PassengerId  Survived  Pclass  \\\n",
              "0               1       0.0       3   \n",
              "1               2       1.0       1   \n",
              "2               3       1.0       3   \n",
              "3               4       1.0       1   \n",
              "4               5       0.0       3   \n",
              "...           ...       ...     ...   \n",
              "1304         1305       NaN       3   \n",
              "1305         1306       NaN       1   \n",
              "1306         1307       NaN       3   \n",
              "1307         1308       NaN       3   \n",
              "1308         1309       NaN       3   \n",
              "\n",
              "                                                   Name     Sex   Age  SibSp  \\\n",
              "0                               Braund, Mr. Owen Harris    male  22.0      1   \n",
              "1     Cumings, Mrs. John Bradley (Florence Briggs Th...  female  38.0      1   \n",
              "2                                Heikkinen, Miss. Laina  female  26.0      0   \n",
              "3          Futrelle, Mrs. Jacques Heath (Lily May Peel)  female  35.0      1   \n",
              "4                              Allen, Mr. William Henry    male  35.0      0   \n",
              "...                                                 ...     ...   ...    ...   \n",
              "1304                                 Spector, Mr. Woolf    male   NaN      0   \n",
              "1305                       Oliva y Ocana, Dona. Fermina  female  39.0      0   \n",
              "1306                       Saether, Mr. Simon Sivertsen    male  38.5      0   \n",
              "1307                                Ware, Mr. Frederick    male   NaN      0   \n",
              "1308                           Peter, Master. Michael J    male   NaN      1   \n",
              "\n",
              "      Parch              Ticket      Fare  ...  log_Fare group_sibsp  \\\n",
              "0         0           A/5 21171    7.2500  ...  1.981001           1   \n",
              "1         0            PC 17599   71.2833  ...  4.266662           1   \n",
              "2         0    STON/O2. 3101282    7.9250  ...  2.070022           0   \n",
              "3         0              113803   53.1000  ...  3.972177           1   \n",
              "4         0              373450    8.0500  ...  2.085672           0   \n",
              "...     ...                 ...       ...  ...       ...         ...   \n",
              "1304      0           A.5. 3236    8.0500  ...  2.085672           0   \n",
              "1305      0            PC 17758  108.9000  ...  4.690430           0   \n",
              "1306      0  SOTON/O.Q. 3101262    7.2500  ...  1.981001           0   \n",
              "1307      0              359309    8.0500  ...  2.085672           0   \n",
              "1308      1                2668   22.3583  ...  3.107198           1   \n",
              "\n",
              "      group_parch  1_Cabin  C_Cabin    Title Ticket_count Tiket_cat  \\\n",
              "0               0        0        0       Mr            1         0   \n",
              "1               0        1        C      Mrs            2         1   \n",
              "2               0        0        0     Miss            1         0   \n",
              "3               0        1        C      Mrs            2         1   \n",
              "4               0        0        0       Mr            1         0   \n",
              "...           ...      ...      ...      ...          ...       ...   \n",
              "1304            0        0        0       Mr            1         0   \n",
              "1305            0        1        C  Royalty            3         1   \n",
              "1306            0        0        0       Mr            1         0   \n",
              "1307            0        0        0       Mr            1         0   \n",
              "1308            1        0        0  Royalty            3         1   \n",
              "\n",
              "      familynum  group_familynum  \n",
              "0             1                1  \n",
              "1             1                1  \n",
              "2             0                0  \n",
              "3             1                1  \n",
              "4             0                0  \n",
              "...         ...              ...  \n",
              "1304          0                0  \n",
              "1305          0                0  \n",
              "1306          0                0  \n",
              "1307          0                0  \n",
              "1308          2                1  \n",
              "\n",
              "[1309 rows x 22 columns]"
            ]
          },
          "metadata": {},
          "execution_count": 31
        }
      ]
    },
    {
      "cell_type": "markdown",
      "source": [
        "创建包含建模特征的临时表"
      ],
      "metadata": {
        "id": "eNFwvKnHgdxt"
      }
    },
    {
      "cell_type": "code",
      "source": [
        "\n",
        "cat=[\"Sex\",\"Title\",\"Embarked\"]\n",
        "num=[\"Pclass\",\"Age\",\"group_sibsp\",\"group_parch\",\"1_Cabin\",\"log_Fare\",\"Tiket_cat\",\"group_familynum\"]\n",
        "tem_cat = pd.get_dummies(all[cat])\n",
        "tem=pd.concat([tem_cat,all[num]],axis=1)\n",
        "tem.info()"
      ],
      "metadata": {
        "colab": {
          "base_uri": "https://localhost:8080/"
        },
        "id": "8KUzxZK--q_P",
        "outputId": "c532982a-b8d8-452c-c0e5-276dc2ad98ca"
      },
      "execution_count": 32,
      "outputs": [
        {
          "output_type": "stream",
          "name": "stdout",
          "text": [
            "<class 'pandas.core.frame.DataFrame'>\n",
            "RangeIndex: 1309 entries, 0 to 1308\n",
            "Data columns (total 17 columns):\n",
            " #   Column           Non-Null Count  Dtype  \n",
            "---  ------           --------------  -----  \n",
            " 0   Sex_female       1309 non-null   uint8  \n",
            " 1   Sex_male         1309 non-null   uint8  \n",
            " 2   Title_Miss       1309 non-null   uint8  \n",
            " 3   Title_Mr         1309 non-null   uint8  \n",
            " 4   Title_Mrs        1309 non-null   uint8  \n",
            " 5   Title_Royalty    1309 non-null   uint8  \n",
            " 6   Embarked_C       1309 non-null   uint8  \n",
            " 7   Embarked_Q       1309 non-null   uint8  \n",
            " 8   Embarked_S       1309 non-null   uint8  \n",
            " 9   Pclass           1309 non-null   int64  \n",
            " 10  Age              1046 non-null   float64\n",
            " 11  group_sibsp      1309 non-null   int64  \n",
            " 12  group_parch      1309 non-null   int64  \n",
            " 13  1_Cabin          1309 non-null   int64  \n",
            " 14  log_Fare         1309 non-null   float64\n",
            " 15  Tiket_cat        1309 non-null   int64  \n",
            " 16  group_familynum  1309 non-null   int64  \n",
            "dtypes: float64(2), int64(6), uint8(9)\n",
            "memory usage: 93.4 KB\n"
          ]
        }
      ]
    },
    {
      "cell_type": "code",
      "source": [
        "!pip install fancyimpute"
      ],
      "metadata": {
        "colab": {
          "base_uri": "https://localhost:8080/"
        },
        "id": "8OY1ZEw7fSti",
        "outputId": "05ea4bf5-3f45-482a-8d16-c9adb3b005c5"
      },
      "execution_count": 33,
      "outputs": [
        {
          "output_type": "stream",
          "name": "stdout",
          "text": [
            "Collecting fancyimpute\n",
            "  Downloading fancyimpute-0.7.0.tar.gz (25 kB)\n",
            "Collecting knnimpute>=0.1.0\n",
            "  Downloading knnimpute-0.1.0.tar.gz (8.3 kB)\n",
            "Requirement already satisfied: scikit-learn>=0.24.2 in /usr/local/lib/python3.7/dist-packages (from fancyimpute) (1.0.2)\n",
            "Requirement already satisfied: cvxpy in /usr/local/lib/python3.7/dist-packages (from fancyimpute) (1.0.31)\n",
            "Requirement already satisfied: cvxopt in /usr/local/lib/python3.7/dist-packages (from fancyimpute) (1.2.7)\n",
            "Requirement already satisfied: pytest in /usr/local/lib/python3.7/dist-packages (from fancyimpute) (3.6.4)\n",
            "Collecting nose\n",
            "  Downloading nose-1.3.7-py3-none-any.whl (154 kB)\n",
            "\u001b[K     |████████████████████████████████| 154 kB 7.7 MB/s \n",
            "\u001b[?25hRequirement already satisfied: six in /usr/local/lib/python3.7/dist-packages (from knnimpute>=0.1.0->fancyimpute) (1.15.0)\n",
            "Requirement already satisfied: numpy>=1.10 in /usr/local/lib/python3.7/dist-packages (from knnimpute>=0.1.0->fancyimpute) (1.21.5)\n",
            "Requirement already satisfied: threadpoolctl>=2.0.0 in /usr/local/lib/python3.7/dist-packages (from scikit-learn>=0.24.2->fancyimpute) (3.1.0)\n",
            "Requirement already satisfied: scipy>=1.1.0 in /usr/local/lib/python3.7/dist-packages (from scikit-learn>=0.24.2->fancyimpute) (1.4.1)\n",
            "Requirement already satisfied: joblib>=0.11 in /usr/local/lib/python3.7/dist-packages (from scikit-learn>=0.24.2->fancyimpute) (1.1.0)\n",
            "Requirement already satisfied: scs>=1.1.3 in /usr/local/lib/python3.7/dist-packages (from cvxpy->fancyimpute) (3.2.0)\n",
            "Requirement already satisfied: osqp>=0.4.1 in /usr/local/lib/python3.7/dist-packages (from cvxpy->fancyimpute) (0.6.2.post0)\n",
            "Requirement already satisfied: multiprocess in /usr/local/lib/python3.7/dist-packages (from cvxpy->fancyimpute) (0.70.12.2)\n",
            "Requirement already satisfied: ecos>=2 in /usr/local/lib/python3.7/dist-packages (from cvxpy->fancyimpute) (2.0.10)\n",
            "Requirement already satisfied: qdldl in /usr/local/lib/python3.7/dist-packages (from osqp>=0.4.1->cvxpy->fancyimpute) (0.1.5.post0)\n",
            "Requirement already satisfied: dill>=0.3.4 in /usr/local/lib/python3.7/dist-packages (from multiprocess->cvxpy->fancyimpute) (0.3.4)\n",
            "Requirement already satisfied: setuptools in /usr/local/lib/python3.7/dist-packages (from pytest->fancyimpute) (57.4.0)\n",
            "Requirement already satisfied: pluggy<0.8,>=0.5 in /usr/local/lib/python3.7/dist-packages (from pytest->fancyimpute) (0.7.1)\n",
            "Requirement already satisfied: attrs>=17.4.0 in /usr/local/lib/python3.7/dist-packages (from pytest->fancyimpute) (21.4.0)\n",
            "Requirement already satisfied: more-itertools>=4.0.0 in /usr/local/lib/python3.7/dist-packages (from pytest->fancyimpute) (8.12.0)\n",
            "Requirement already satisfied: py>=1.5.0 in /usr/local/lib/python3.7/dist-packages (from pytest->fancyimpute) (1.11.0)\n",
            "Requirement already satisfied: atomicwrites>=1.0 in /usr/local/lib/python3.7/dist-packages (from pytest->fancyimpute) (1.4.0)\n",
            "Building wheels for collected packages: fancyimpute, knnimpute\n",
            "  Building wheel for fancyimpute (setup.py) ... \u001b[?25l\u001b[?25hdone\n",
            "  Created wheel for fancyimpute: filename=fancyimpute-0.7.0-py3-none-any.whl size=29899 sha256=7adbc3ac851a0a3eb54184f923d1c3a68140e51a748fa90a3ac9e5c0f0f0fcdd\n",
            "  Stored in directory: /root/.cache/pip/wheels/e3/04/06/a1a7d89ef4e631ce6268ea2d8cde04f7290651c1ff1025ce68\n",
            "  Building wheel for knnimpute (setup.py) ... \u001b[?25l\u001b[?25hdone\n",
            "  Created wheel for knnimpute: filename=knnimpute-0.1.0-py3-none-any.whl size=11353 sha256=82078f00b827c27a6b10740645b3ee25713d078d9eb1efc0f2d85199187abbcc\n",
            "  Stored in directory: /root/.cache/pip/wheels/72/21/a8/a045cacd9838abd5643f6bfa852c0796a99d6b1494760494e0\n",
            "Successfully built fancyimpute knnimpute\n",
            "Installing collected packages: nose, knnimpute, fancyimpute\n",
            "Successfully installed fancyimpute-0.7.0 knnimpute-0.1.0 nose-1.3.7\n"
          ]
        }
      ]
    },
    {
      "cell_type": "markdown",
      "source": [
        "knn预测Age填充到原表中"
      ],
      "metadata": {
        "id": "DNFDtyAUgonc"
      }
    },
    {
      "cell_type": "code",
      "source": [
        "from fancyimpute import KNN\n",
        "features_knn_imputed = KNN(k=7).fit_transform(tem)\n",
        "\n",
        "# print(features_knn_imputed)\n",
        "tem_df=pd.DataFrame(features_knn_imputed.reshape(1309,-1),columns=list(tem.columns))\n",
        "# print(train)\n",
        "all[\"Age\"]=tem_df[\"Age\"]\n",
        "all.info()"
      ],
      "metadata": {
        "colab": {
          "base_uri": "https://localhost:8080/"
        },
        "id": "M1x5yWa7msFS",
        "outputId": "ece8c529-9405-4cbc-b95f-a4a524332b8e"
      },
      "execution_count": 34,
      "outputs": [
        {
          "output_type": "stream",
          "name": "stdout",
          "text": [
            "Imputing row 1/1309 with 0 missing, elapsed time: 0.458\n",
            "Imputing row 101/1309 with 0 missing, elapsed time: 0.459\n",
            "Imputing row 201/1309 with 0 missing, elapsed time: 0.460\n",
            "Imputing row 301/1309 with 1 missing, elapsed time: 0.461\n",
            "Imputing row 401/1309 with 0 missing, elapsed time: 0.462\n",
            "Imputing row 501/1309 with 0 missing, elapsed time: 0.463\n",
            "Imputing row 601/1309 with 0 missing, elapsed time: 0.465\n",
            "Imputing row 701/1309 with 0 missing, elapsed time: 0.466\n",
            "Imputing row 801/1309 with 0 missing, elapsed time: 0.467\n",
            "Imputing row 901/1309 with 0 missing, elapsed time: 0.467\n",
            "Imputing row 1001/1309 with 0 missing, elapsed time: 0.469\n",
            "Imputing row 1101/1309 with 0 missing, elapsed time: 0.470\n",
            "Imputing row 1201/1309 with 0 missing, elapsed time: 0.471\n",
            "Imputing row 1301/1309 with 0 missing, elapsed time: 0.473\n",
            "<class 'pandas.core.frame.DataFrame'>\n",
            "RangeIndex: 1309 entries, 0 to 1308\n",
            "Data columns (total 22 columns):\n",
            " #   Column           Non-Null Count  Dtype  \n",
            "---  ------           --------------  -----  \n",
            " 0   PassengerId      1309 non-null   int64  \n",
            " 1   Survived         891 non-null    float64\n",
            " 2   Pclass           1309 non-null   int64  \n",
            " 3   Name             1309 non-null   object \n",
            " 4   Sex              1309 non-null   object \n",
            " 5   Age              1309 non-null   float64\n",
            " 6   SibSp            1309 non-null   int64  \n",
            " 7   Parch            1309 non-null   int64  \n",
            " 8   Ticket           1309 non-null   object \n",
            " 9   Fare             1309 non-null   float64\n",
            " 10  Cabin            1309 non-null   object \n",
            " 11  Embarked         1309 non-null   object \n",
            " 12  log_Fare         1309 non-null   float64\n",
            " 13  group_sibsp      1309 non-null   int64  \n",
            " 14  group_parch      1309 non-null   int64  \n",
            " 15  1_Cabin          1309 non-null   int64  \n",
            " 16  C_Cabin          1309 non-null   object \n",
            " 17  Title            1309 non-null   object \n",
            " 18  Ticket_count     1309 non-null   int64  \n",
            " 19  Tiket_cat        1309 non-null   int64  \n",
            " 20  familynum        1309 non-null   int64  \n",
            " 21  group_familynum  1309 non-null   int64  \n",
            "dtypes: float64(4), int64(11), object(7)\n",
            "memory usage: 225.1+ KB\n"
          ]
        }
      ]
    },
    {
      "cell_type": "markdown",
      "source": [
        "分析男性和女性在同一个家族里同生共死的现象"
      ],
      "metadata": {
        "id": "UOKBhTM_2g8f"
      }
    },
    {
      "cell_type": "code",
      "source": [
        "tem=all[\"Name\"].map(lambda x:x.split(\",\")[0]).value_counts()\n",
        "tem_df=pd.DataFrame(all[\"Name\"].map(lambda x:x.split(\",\")[0]).value_counts())\n",
        "#创建新特征：每个名字出现的次数\n",
        "all[\"Surname\"]=all[\"Name\"].map(lambda x:x.split(\",\")[0])\n",
        "all[\"Surname_count\"]=all[\"Surname\"].map(tem)\n",
        "\n",
        "tem_df=tem_df[tem_df[\"Name\"]>1]\n",
        "teml=list(tem_df.index)\n",
        "\n",
        "teml_l=teml[:20]\n",
        "\n",
        "\n",
        "#一个家族男、女性同生共死现象\n",
        "for i in teml_l:\n",
        "  print(i)\n",
        "  print(all[[\"Survived\",\"Sex\",\"Age\"]][all[\"Surname\"]==i])\n"
      ],
      "metadata": {
        "id": "y8k5dOE0dkpS",
        "outputId": "1151dfdb-919b-4f73-fae9-237a67b659b3",
        "colab": {
          "base_uri": "https://localhost:8080/"
        }
      },
      "execution_count": 60,
      "outputs": [
        {
          "output_type": "stream",
          "name": "stdout",
          "text": [
            "Andersson\n",
            "      Survived     Sex   Age\n",
            "13         0.0    male  39.0\n",
            "68         1.0  female  17.0\n",
            "119        0.0  female   2.0\n",
            "146        1.0    male  27.0\n",
            "541        0.0  female   9.0\n",
            "542        0.0  female  11.0\n",
            "610        0.0  female  39.0\n",
            "813        0.0  female   6.0\n",
            "850        0.0    male   4.0\n",
            "1105       NaN    male  60.0\n",
            "1211       NaN    male  26.0\n",
            "Sage\n",
            "      Survived     Sex        Age\n",
            "159        0.0    male  14.495981\n",
            "180        0.0  female  10.577147\n",
            "201        0.0    male  17.955930\n",
            "324        0.0    male  17.955930\n",
            "792        0.0  female  10.577147\n",
            "846        0.0    male  17.955930\n",
            "863        0.0  female  10.577147\n",
            "1079       NaN    male  60.000000\n",
            "1233       NaN    male  37.920581\n",
            "1251       NaN    male  14.500000\n",
            "1256       NaN    male  60.000000\n",
            "Goodwin\n",
            "      Survived     Sex   Age\n",
            "59         0.0    male  11.0\n",
            "71         0.0  female  16.0\n",
            "386        0.0    male   1.0\n",
            "480        0.0    male   9.0\n",
            "678        0.0  female  43.0\n",
            "683        0.0    male  14.0\n",
            "1030       NaN    male  40.0\n",
            "1031       NaN    male  60.0\n",
            "Asplund\n",
            "      Survived     Sex   Age\n",
            "25         1.0  female  38.0\n",
            "182        0.0    male   9.0\n",
            "233        1.0  female   5.0\n",
            "261        1.0    male   3.0\n",
            "1045       NaN    male  13.0\n",
            "1065       NaN    male  40.0\n",
            "1117       NaN    male  23.0\n",
            "1270       NaN    male   5.0\n",
            "Davies\n",
            "      Survived     Sex   Age\n",
            "385        0.0    male  18.0\n",
            "549        1.0    male   8.0\n",
            "565        0.0    male  24.0\n",
            "900        NaN    male  21.0\n",
            "1038       NaN    male  22.0\n",
            "1078       NaN    male  17.0\n",
            "1221       NaN  female  48.0\n",
            "Brown\n",
            "      Survived     Sex   Age\n",
            "194        1.0  female  44.0\n",
            "345        1.0  female  24.0\n",
            "670        1.0  female  40.0\n",
            "684        0.0    male  60.0\n",
            "1066       NaN  female  15.0\n",
            "1247       NaN  female  59.0\n",
            "Panula\n",
            "     Survived     Sex   Age\n",
            "50        0.0    male   7.0\n",
            "164       0.0    male   1.0\n",
            "266       0.0    male  16.0\n",
            "638       0.0  female  41.0\n",
            "686       0.0    male  14.0\n",
            "824       0.0    male   2.0\n",
            "Skoog\n",
            "     Survived     Sex   Age\n",
            "63        0.0    male   4.0\n",
            "167       0.0  female  45.0\n",
            "360       0.0    male  40.0\n",
            "634       0.0  female   9.0\n",
            "642       0.0  female   2.0\n",
            "819       0.0    male  10.0\n",
            "Carter\n",
            "     Survived     Sex   Age\n",
            "249       0.0    male  54.0\n",
            "390       1.0    male  36.0\n",
            "435       1.0  female  14.0\n",
            "763       1.0  female  36.0\n",
            "802       1.0    male  11.0\n",
            "854       0.0  female  44.0\n",
            "Rice\n",
            "     Survived     Sex   Age\n",
            "16        0.0    male   2.0\n",
            "171       0.0    male   4.0\n",
            "278       0.0    male   7.0\n",
            "787       0.0    male   8.0\n",
            "885       0.0  female  39.0\n",
            "946       NaN    male  10.0\n",
            "Smith\n",
            "      Survived     Sex        Age\n",
            "174        0.0    male  56.000000\n",
            "260        0.0    male  33.428571\n",
            "284        0.0    male  39.691757\n",
            "346        1.0  female  40.000000\n",
            "941        NaN    male  24.000000\n",
            "1286       NaN  female  18.000000\n",
            "Fortune\n",
            "     Survived     Sex   Age\n",
            "27        0.0    male  19.0\n",
            "88        1.0  female  23.0\n",
            "341       1.0  female  24.0\n",
            "438       0.0    male  64.0\n",
            "944       NaN  female  28.0\n",
            "960       NaN  female  60.0\n",
            "Johnson\n",
            "     Survived     Sex   Age\n",
            "8         1.0  female  27.0\n",
            "172       1.0  female   1.0\n",
            "302       0.0    male  19.0\n",
            "597       0.0    male  49.0\n",
            "719       0.0    male  33.0\n",
            "869       1.0    male   4.0\n",
            "Ford\n",
            "      Survived     Sex        Age\n",
            "86         0.0    male  16.000000\n",
            "147        0.0  female   9.000000\n",
            "436        0.0  female  21.000000\n",
            "736        0.0  female  48.000000\n",
            "1058       NaN    male  18.000000\n",
            "1180       NaN    male  33.785714\n",
            "Lefebre\n",
            "      Survived     Sex        Age\n",
            "176        0.0    male   6.597758\n",
            "229        0.0  female   5.532272\n",
            "409        0.0  female   5.532272\n",
            "485        0.0  female   5.854991\n",
            "1023       NaN    male  60.000000\n",
            "Williams\n",
            "     Survived   Sex        Age\n",
            "17        1.0  male  30.428571\n",
            "155       0.0  male  51.000000\n",
            "304       0.0  male  25.714286\n",
            "735       0.0  male  28.500000\n",
            "914       NaN  male  21.000000\n",
            "Ryerson\n",
            "      Survived     Sex   Age\n",
            "311        1.0  female  18.0\n",
            "742        1.0  female  21.0\n",
            "915        NaN  female  48.0\n",
            "955        NaN    male  13.0\n",
            "1033       NaN    male  61.0\n",
            "Palsson\n",
            "      Survived     Sex   Age\n",
            "7          0.0    male   2.0\n",
            "24         0.0  female   8.0\n",
            "374        0.0  female   3.0\n",
            "567        0.0  female  29.0\n",
            "1280       NaN    male   6.0\n",
            "Kelly\n",
            "     Survived     Sex        Age\n",
            "300       1.0  female  21.785714\n",
            "573       1.0  female  22.071429\n",
            "696       0.0    male  44.000000\n",
            "706       1.0  female  45.000000\n",
            "891       NaN    male  34.500000\n",
            "Thomas\n",
            "      Survived     Sex        Age\n",
            "803        1.0    male   0.420000\n",
            "995        NaN  female  16.000000\n",
            "1007       NaN    male  34.427244\n",
            "1024       NaN    male  21.045730\n",
            "1223       NaN    male  23.571429\n"
          ]
        }
      ]
    },
    {
      "cell_type": "code",
      "source": [
        "#计算一个家族中女性的死亡率和男性的死亡率\n",
        "all[\"tem_female_dead\"]=np.NaN\n",
        "all[\"tem_male_dead\"]=np.NaN\n",
        "for i in teml:\n",
        "  # print(i)\n",
        "  try:\n",
        "    t=all[[\"Survived\"]][(all[\"Surname\"]==i)&(all[\"Sex\"]==\"female\")&(all[\"Survived\"].notnull())].value_counts(normalize=True)[0]\n",
        "  except KeyError:\n",
        "    t=np.NaN\n",
        "  all[\"tem_female_dead\"][(all[\"Surname\"]==i)&(all[\"Sex\"]==\"female\")]=t\n",
        "\n",
        "\n",
        "for i in teml:\n",
        "  # print(i)\n",
        "  try:\n",
        "    t=all[[\"Survived\"]][(all[\"Surname\"]==i)&(all[\"Sex\"]==\"male\")&(all[\"Survived\"].notnull())].value_counts(normalize=True)[0]\n",
        "  except KeyError:\n",
        "    t=np.NaN\n",
        "  all[\"tem_male_dead\"][(all[\"Surname\"]==i)&(all[\"Sex\"]==\"male\")]=t\n"
      ],
      "metadata": {
        "id": "Bkzjo9EkxvCo"
      },
      "execution_count": 59,
      "outputs": []
    },
    {
      "cell_type": "code",
      "source": [
        "###验证\n",
        "all[\"tem_male_dead\"][(all[\"Surname\"]==teml[0])&(all[\"Sex\"]==\"male\")]"
      ],
      "metadata": {
        "id": "PumNiUojetD-",
        "outputId": "2578ad7e-abef-41f7-f1c5-c15ca5c3ce6f",
        "colab": {
          "base_uri": "https://localhost:8080/"
        }
      },
      "execution_count": 37,
      "outputs": [
        {
          "output_type": "execute_result",
          "data": {
            "text/plain": [
              "13      0.666667\n",
              "146     0.666667\n",
              "850     0.666667\n",
              "1211    0.666667\n",
              "Name: tem_male_dead, dtype: float64"
            ]
          },
          "metadata": {},
          "execution_count": 37
        }
      ]
    },
    {
      "cell_type": "markdown",
      "source": [
        "将同一个家族的男、女性死亡率超过50%的年龄改为“易死亡年龄”"
      ],
      "metadata": {
        "id": "eIg3rpQpf6Kw"
      }
    },
    {
      "cell_type": "code",
      "source": [
        "all[\"Age\"][(all[\"Survived\"].isnull())&(all[\"Surname_count\"]>1)&(all[\"tem_female_dead\"]<0.5)]=6\n",
        "\n",
        "all[\"Age\"][(all[\"Survived\"].isnull())&(all[\"Surname_count\"]>1)&(all[\"tem_female_dead\"]>=0.5)]=60\n",
        "all[\"Sex\"][(all[\"Survived\"].isnull())&(all[\"Surname_count\"]>1)&(all[\"tem_female_dead\"]>=0.5)]=\"male\"\n",
        "\n",
        "#男性同生现象不是很明显，对精确度没有什么显著影响\n",
        "# all[\"Age\"][(all[\"Survived\"].isnull())&(all[\"Surname_count\"]>1)&(all[\"tem_male_dead\"]<0.5)]=6\n",
        "# all[\"Sex\"][(all[\"Survived\"].isnull())&(all[\"Surname_count\"]>1)&(all[\"tem_male_dead\"]<0.5)]=\"female\"\n",
        "\n",
        "# all[\"Age\"][(all[\"Survived\"].isnull())&(all[\"Surname_count\"]>1)&(all[\"tem_male_dead\"]>=0.5)]=60"
      ],
      "metadata": {
        "id": "awsXFuOWftKG"
      },
      "execution_count": 38,
      "outputs": []
    },
    {
      "cell_type": "markdown",
      "source": [
        "### 分类数据hot化"
      ],
      "metadata": {
        "id": "wsh71rUyjCaN"
      }
    },
    {
      "cell_type": "code",
      "source": [
        "\n",
        "# from sklearn.preprocessing import StandardScaler\n",
        "# std=StandardScaler()\n",
        "\n",
        "\n",
        "\n",
        "# tem=pd.concat([tem_cat,all[num]],axis=1)\n",
        "# tem.info()\n",
        "# tem_num=pd.DataFrame(std.fit_transform(all[num]),columns=num)\n",
        "#\n",
        "\n",
        "cat=[\"Sex\",\"Title\",\"Embarked\"]\n",
        "num=[\"Pclass\",\"Age\",\"group_sibsp\",\"group_parch\",\"1_Cabin\",\"log_Fare\",\"Tiket_cat\",\"group_familynum\",\"familynum\",\"Ticket_count\"]\n",
        "\n",
        "\n",
        "num_new=[\"Pclass\",\"group_sibsp\",\"group_parch\",\"1_Cabin\",\"Tiket_cat\"]\n",
        "data=pd.concat([tem_cat,all[num]],axis=1)\n"
      ],
      "metadata": {
        "id": "D_JrkAmhyrum"
      },
      "execution_count": 39,
      "outputs": []
    },
    {
      "cell_type": "code",
      "source": [
        "data"
      ],
      "metadata": {
        "colab": {
          "base_uri": "https://localhost:8080/",
          "height": 487
        },
        "id": "jok7j4ba8DLh",
        "outputId": "3826d4e6-b2f8-4c92-a7bb-3a25f1bbc5b8"
      },
      "execution_count": 40,
      "outputs": [
        {
          "output_type": "execute_result",
          "data": {
            "text/html": [
              "\n",
              "  <div id=\"df-328d69ce-24b2-4342-b80c-26390ba1840b\">\n",
              "    <div class=\"colab-df-container\">\n",
              "      <div>\n",
              "<style scoped>\n",
              "    .dataframe tbody tr th:only-of-type {\n",
              "        vertical-align: middle;\n",
              "    }\n",
              "\n",
              "    .dataframe tbody tr th {\n",
              "        vertical-align: top;\n",
              "    }\n",
              "\n",
              "    .dataframe thead th {\n",
              "        text-align: right;\n",
              "    }\n",
              "</style>\n",
              "<table border=\"1\" class=\"dataframe\">\n",
              "  <thead>\n",
              "    <tr style=\"text-align: right;\">\n",
              "      <th></th>\n",
              "      <th>Sex_female</th>\n",
              "      <th>Sex_male</th>\n",
              "      <th>Title_Miss</th>\n",
              "      <th>Title_Mr</th>\n",
              "      <th>Title_Mrs</th>\n",
              "      <th>Title_Royalty</th>\n",
              "      <th>Embarked_C</th>\n",
              "      <th>Embarked_Q</th>\n",
              "      <th>Embarked_S</th>\n",
              "      <th>Pclass</th>\n",
              "      <th>Age</th>\n",
              "      <th>group_sibsp</th>\n",
              "      <th>group_parch</th>\n",
              "      <th>1_Cabin</th>\n",
              "      <th>log_Fare</th>\n",
              "      <th>Tiket_cat</th>\n",
              "      <th>group_familynum</th>\n",
              "      <th>familynum</th>\n",
              "      <th>Ticket_count</th>\n",
              "    </tr>\n",
              "  </thead>\n",
              "  <tbody>\n",
              "    <tr>\n",
              "      <th>0</th>\n",
              "      <td>0</td>\n",
              "      <td>1</td>\n",
              "      <td>0</td>\n",
              "      <td>1</td>\n",
              "      <td>0</td>\n",
              "      <td>0</td>\n",
              "      <td>0</td>\n",
              "      <td>0</td>\n",
              "      <td>1</td>\n",
              "      <td>3</td>\n",
              "      <td>22.000000</td>\n",
              "      <td>1</td>\n",
              "      <td>0</td>\n",
              "      <td>0</td>\n",
              "      <td>1.981001</td>\n",
              "      <td>0</td>\n",
              "      <td>1</td>\n",
              "      <td>1</td>\n",
              "      <td>1</td>\n",
              "    </tr>\n",
              "    <tr>\n",
              "      <th>1</th>\n",
              "      <td>1</td>\n",
              "      <td>0</td>\n",
              "      <td>0</td>\n",
              "      <td>0</td>\n",
              "      <td>1</td>\n",
              "      <td>0</td>\n",
              "      <td>1</td>\n",
              "      <td>0</td>\n",
              "      <td>0</td>\n",
              "      <td>1</td>\n",
              "      <td>38.000000</td>\n",
              "      <td>1</td>\n",
              "      <td>0</td>\n",
              "      <td>1</td>\n",
              "      <td>4.266662</td>\n",
              "      <td>1</td>\n",
              "      <td>1</td>\n",
              "      <td>1</td>\n",
              "      <td>2</td>\n",
              "    </tr>\n",
              "    <tr>\n",
              "      <th>2</th>\n",
              "      <td>1</td>\n",
              "      <td>0</td>\n",
              "      <td>1</td>\n",
              "      <td>0</td>\n",
              "      <td>0</td>\n",
              "      <td>0</td>\n",
              "      <td>0</td>\n",
              "      <td>0</td>\n",
              "      <td>1</td>\n",
              "      <td>3</td>\n",
              "      <td>26.000000</td>\n",
              "      <td>0</td>\n",
              "      <td>0</td>\n",
              "      <td>0</td>\n",
              "      <td>2.070022</td>\n",
              "      <td>0</td>\n",
              "      <td>0</td>\n",
              "      <td>0</td>\n",
              "      <td>1</td>\n",
              "    </tr>\n",
              "    <tr>\n",
              "      <th>3</th>\n",
              "      <td>1</td>\n",
              "      <td>0</td>\n",
              "      <td>0</td>\n",
              "      <td>0</td>\n",
              "      <td>1</td>\n",
              "      <td>0</td>\n",
              "      <td>0</td>\n",
              "      <td>0</td>\n",
              "      <td>1</td>\n",
              "      <td>1</td>\n",
              "      <td>35.000000</td>\n",
              "      <td>1</td>\n",
              "      <td>0</td>\n",
              "      <td>1</td>\n",
              "      <td>3.972177</td>\n",
              "      <td>1</td>\n",
              "      <td>1</td>\n",
              "      <td>1</td>\n",
              "      <td>2</td>\n",
              "    </tr>\n",
              "    <tr>\n",
              "      <th>4</th>\n",
              "      <td>0</td>\n",
              "      <td>1</td>\n",
              "      <td>0</td>\n",
              "      <td>1</td>\n",
              "      <td>0</td>\n",
              "      <td>0</td>\n",
              "      <td>0</td>\n",
              "      <td>0</td>\n",
              "      <td>1</td>\n",
              "      <td>3</td>\n",
              "      <td>35.000000</td>\n",
              "      <td>0</td>\n",
              "      <td>0</td>\n",
              "      <td>0</td>\n",
              "      <td>2.085672</td>\n",
              "      <td>0</td>\n",
              "      <td>0</td>\n",
              "      <td>0</td>\n",
              "      <td>1</td>\n",
              "    </tr>\n",
              "    <tr>\n",
              "      <th>...</th>\n",
              "      <td>...</td>\n",
              "      <td>...</td>\n",
              "      <td>...</td>\n",
              "      <td>...</td>\n",
              "      <td>...</td>\n",
              "      <td>...</td>\n",
              "      <td>...</td>\n",
              "      <td>...</td>\n",
              "      <td>...</td>\n",
              "      <td>...</td>\n",
              "      <td>...</td>\n",
              "      <td>...</td>\n",
              "      <td>...</td>\n",
              "      <td>...</td>\n",
              "      <td>...</td>\n",
              "      <td>...</td>\n",
              "      <td>...</td>\n",
              "      <td>...</td>\n",
              "      <td>...</td>\n",
              "    </tr>\n",
              "    <tr>\n",
              "      <th>1304</th>\n",
              "      <td>0</td>\n",
              "      <td>1</td>\n",
              "      <td>0</td>\n",
              "      <td>1</td>\n",
              "      <td>0</td>\n",
              "      <td>0</td>\n",
              "      <td>0</td>\n",
              "      <td>0</td>\n",
              "      <td>1</td>\n",
              "      <td>3</td>\n",
              "      <td>25.714286</td>\n",
              "      <td>0</td>\n",
              "      <td>0</td>\n",
              "      <td>0</td>\n",
              "      <td>2.085672</td>\n",
              "      <td>0</td>\n",
              "      <td>0</td>\n",
              "      <td>0</td>\n",
              "      <td>1</td>\n",
              "    </tr>\n",
              "    <tr>\n",
              "      <th>1305</th>\n",
              "      <td>1</td>\n",
              "      <td>0</td>\n",
              "      <td>0</td>\n",
              "      <td>0</td>\n",
              "      <td>0</td>\n",
              "      <td>1</td>\n",
              "      <td>1</td>\n",
              "      <td>0</td>\n",
              "      <td>0</td>\n",
              "      <td>1</td>\n",
              "      <td>39.000000</td>\n",
              "      <td>0</td>\n",
              "      <td>0</td>\n",
              "      <td>1</td>\n",
              "      <td>4.690430</td>\n",
              "      <td>1</td>\n",
              "      <td>0</td>\n",
              "      <td>0</td>\n",
              "      <td>3</td>\n",
              "    </tr>\n",
              "    <tr>\n",
              "      <th>1306</th>\n",
              "      <td>0</td>\n",
              "      <td>1</td>\n",
              "      <td>0</td>\n",
              "      <td>1</td>\n",
              "      <td>0</td>\n",
              "      <td>0</td>\n",
              "      <td>0</td>\n",
              "      <td>0</td>\n",
              "      <td>1</td>\n",
              "      <td>3</td>\n",
              "      <td>38.500000</td>\n",
              "      <td>0</td>\n",
              "      <td>0</td>\n",
              "      <td>0</td>\n",
              "      <td>1.981001</td>\n",
              "      <td>0</td>\n",
              "      <td>0</td>\n",
              "      <td>0</td>\n",
              "      <td>1</td>\n",
              "    </tr>\n",
              "    <tr>\n",
              "      <th>1307</th>\n",
              "      <td>0</td>\n",
              "      <td>1</td>\n",
              "      <td>0</td>\n",
              "      <td>1</td>\n",
              "      <td>0</td>\n",
              "      <td>0</td>\n",
              "      <td>0</td>\n",
              "      <td>0</td>\n",
              "      <td>1</td>\n",
              "      <td>3</td>\n",
              "      <td>39.071429</td>\n",
              "      <td>0</td>\n",
              "      <td>0</td>\n",
              "      <td>0</td>\n",
              "      <td>2.085672</td>\n",
              "      <td>0</td>\n",
              "      <td>0</td>\n",
              "      <td>0</td>\n",
              "      <td>1</td>\n",
              "    </tr>\n",
              "    <tr>\n",
              "      <th>1308</th>\n",
              "      <td>0</td>\n",
              "      <td>1</td>\n",
              "      <td>0</td>\n",
              "      <td>0</td>\n",
              "      <td>0</td>\n",
              "      <td>1</td>\n",
              "      <td>1</td>\n",
              "      <td>0</td>\n",
              "      <td>0</td>\n",
              "      <td>3</td>\n",
              "      <td>6.338699</td>\n",
              "      <td>1</td>\n",
              "      <td>1</td>\n",
              "      <td>0</td>\n",
              "      <td>3.107198</td>\n",
              "      <td>1</td>\n",
              "      <td>1</td>\n",
              "      <td>2</td>\n",
              "      <td>3</td>\n",
              "    </tr>\n",
              "  </tbody>\n",
              "</table>\n",
              "<p>1309 rows × 19 columns</p>\n",
              "</div>\n",
              "      <button class=\"colab-df-convert\" onclick=\"convertToInteractive('df-328d69ce-24b2-4342-b80c-26390ba1840b')\"\n",
              "              title=\"Convert this dataframe to an interactive table.\"\n",
              "              style=\"display:none;\">\n",
              "        \n",
              "  <svg xmlns=\"http://www.w3.org/2000/svg\" height=\"24px\"viewBox=\"0 0 24 24\"\n",
              "       width=\"24px\">\n",
              "    <path d=\"M0 0h24v24H0V0z\" fill=\"none\"/>\n",
              "    <path d=\"M18.56 5.44l.94 2.06.94-2.06 2.06-.94-2.06-.94-.94-2.06-.94 2.06-2.06.94zm-11 1L8.5 8.5l.94-2.06 2.06-.94-2.06-.94L8.5 2.5l-.94 2.06-2.06.94zm10 10l.94 2.06.94-2.06 2.06-.94-2.06-.94-.94-2.06-.94 2.06-2.06.94z\"/><path d=\"M17.41 7.96l-1.37-1.37c-.4-.4-.92-.59-1.43-.59-.52 0-1.04.2-1.43.59L10.3 9.45l-7.72 7.72c-.78.78-.78 2.05 0 2.83L4 21.41c.39.39.9.59 1.41.59.51 0 1.02-.2 1.41-.59l7.78-7.78 2.81-2.81c.8-.78.8-2.07 0-2.86zM5.41 20L4 18.59l7.72-7.72 1.47 1.35L5.41 20z\"/>\n",
              "  </svg>\n",
              "      </button>\n",
              "      \n",
              "  <style>\n",
              "    .colab-df-container {\n",
              "      display:flex;\n",
              "      flex-wrap:wrap;\n",
              "      gap: 12px;\n",
              "    }\n",
              "\n",
              "    .colab-df-convert {\n",
              "      background-color: #E8F0FE;\n",
              "      border: none;\n",
              "      border-radius: 50%;\n",
              "      cursor: pointer;\n",
              "      display: none;\n",
              "      fill: #1967D2;\n",
              "      height: 32px;\n",
              "      padding: 0 0 0 0;\n",
              "      width: 32px;\n",
              "    }\n",
              "\n",
              "    .colab-df-convert:hover {\n",
              "      background-color: #E2EBFA;\n",
              "      box-shadow: 0px 1px 2px rgba(60, 64, 67, 0.3), 0px 1px 3px 1px rgba(60, 64, 67, 0.15);\n",
              "      fill: #174EA6;\n",
              "    }\n",
              "\n",
              "    [theme=dark] .colab-df-convert {\n",
              "      background-color: #3B4455;\n",
              "      fill: #D2E3FC;\n",
              "    }\n",
              "\n",
              "    [theme=dark] .colab-df-convert:hover {\n",
              "      background-color: #434B5C;\n",
              "      box-shadow: 0px 1px 3px 1px rgba(0, 0, 0, 0.15);\n",
              "      filter: drop-shadow(0px 1px 2px rgba(0, 0, 0, 0.3));\n",
              "      fill: #FFFFFF;\n",
              "    }\n",
              "  </style>\n",
              "\n",
              "      <script>\n",
              "        const buttonEl =\n",
              "          document.querySelector('#df-328d69ce-24b2-4342-b80c-26390ba1840b button.colab-df-convert');\n",
              "        buttonEl.style.display =\n",
              "          google.colab.kernel.accessAllowed ? 'block' : 'none';\n",
              "\n",
              "        async function convertToInteractive(key) {\n",
              "          const element = document.querySelector('#df-328d69ce-24b2-4342-b80c-26390ba1840b');\n",
              "          const dataTable =\n",
              "            await google.colab.kernel.invokeFunction('convertToInteractive',\n",
              "                                                     [key], {});\n",
              "          if (!dataTable) return;\n",
              "\n",
              "          const docLinkHtml = 'Like what you see? Visit the ' +\n",
              "            '<a target=\"_blank\" href=https://colab.research.google.com/notebooks/data_table.ipynb>data table notebook</a>'\n",
              "            + ' to learn more about interactive tables.';\n",
              "          element.innerHTML = '';\n",
              "          dataTable['output_type'] = 'display_data';\n",
              "          await google.colab.output.renderOutput(dataTable, element);\n",
              "          const docLink = document.createElement('div');\n",
              "          docLink.innerHTML = docLinkHtml;\n",
              "          element.appendChild(docLink);\n",
              "        }\n",
              "      </script>\n",
              "    </div>\n",
              "  </div>\n",
              "  "
            ],
            "text/plain": [
              "      Sex_female  Sex_male  Title_Miss  Title_Mr  Title_Mrs  Title_Royalty  \\\n",
              "0              0         1           0         1          0              0   \n",
              "1              1         0           0         0          1              0   \n",
              "2              1         0           1         0          0              0   \n",
              "3              1         0           0         0          1              0   \n",
              "4              0         1           0         1          0              0   \n",
              "...          ...       ...         ...       ...        ...            ...   \n",
              "1304           0         1           0         1          0              0   \n",
              "1305           1         0           0         0          0              1   \n",
              "1306           0         1           0         1          0              0   \n",
              "1307           0         1           0         1          0              0   \n",
              "1308           0         1           0         0          0              1   \n",
              "\n",
              "      Embarked_C  Embarked_Q  Embarked_S  Pclass        Age  group_sibsp  \\\n",
              "0              0           0           1       3  22.000000            1   \n",
              "1              1           0           0       1  38.000000            1   \n",
              "2              0           0           1       3  26.000000            0   \n",
              "3              0           0           1       1  35.000000            1   \n",
              "4              0           0           1       3  35.000000            0   \n",
              "...          ...         ...         ...     ...        ...          ...   \n",
              "1304           0           0           1       3  25.714286            0   \n",
              "1305           1           0           0       1  39.000000            0   \n",
              "1306           0           0           1       3  38.500000            0   \n",
              "1307           0           0           1       3  39.071429            0   \n",
              "1308           1           0           0       3   6.338699            1   \n",
              "\n",
              "      group_parch  1_Cabin  log_Fare  Tiket_cat  group_familynum  familynum  \\\n",
              "0               0        0  1.981001          0                1          1   \n",
              "1               0        1  4.266662          1                1          1   \n",
              "2               0        0  2.070022          0                0          0   \n",
              "3               0        1  3.972177          1                1          1   \n",
              "4               0        0  2.085672          0                0          0   \n",
              "...           ...      ...       ...        ...              ...        ...   \n",
              "1304            0        0  2.085672          0                0          0   \n",
              "1305            0        1  4.690430          1                0          0   \n",
              "1306            0        0  1.981001          0                0          0   \n",
              "1307            0        0  2.085672          0                0          0   \n",
              "1308            1        0  3.107198          1                1          2   \n",
              "\n",
              "      Ticket_count  \n",
              "0                1  \n",
              "1                2  \n",
              "2                1  \n",
              "3                2  \n",
              "4                1  \n",
              "...            ...  \n",
              "1304             1  \n",
              "1305             3  \n",
              "1306             1  \n",
              "1307             1  \n",
              "1308             3  \n",
              "\n",
              "[1309 rows x 19 columns]"
            ]
          },
          "metadata": {},
          "execution_count": 40
        }
      ]
    },
    {
      "cell_type": "code",
      "source": [
        "tem=all[num]\n",
        "tem=tem[:891]\n",
        "tem_s=train[\"Survived\"]\n",
        "figure_data=pd.concat([tem,tem_s],axis=1)\n"
      ],
      "metadata": {
        "id": "CuqOcqDH14V2"
      },
      "execution_count": 41,
      "outputs": []
    },
    {
      "cell_type": "code",
      "source": [
        "#热力图，查看Survived与其他特征间相关性大小\n",
        "plt.figure(figsize=(10,10))\n",
        "sns.heatmap(figure_data.corr(),cmap='BrBG',annot=True,\n",
        "           linewidths=.5)\n",
        "plt.xticks(rotation=45)\n"
      ],
      "metadata": {
        "colab": {
          "base_uri": "https://localhost:8080/",
          "height": 682
        },
        "id": "HrG1Io2C4R5O",
        "outputId": "10bd730b-fd79-4e49-a129-79cf26a66f2f"
      },
      "execution_count": 42,
      "outputs": [
        {
          "output_type": "execute_result",
          "data": {
            "text/plain": [
              "(array([ 0.5,  1.5,  2.5,  3.5,  4.5,  5.5,  6.5,  7.5,  8.5,  9.5, 10.5]),\n",
              " <a list of 11 Text major ticklabel objects>)"
            ]
          },
          "metadata": {},
          "execution_count": 42
        },
        {
          "output_type": "display_data",
          "data": {
            "image/png": "[encoded data removed]",
            "text/plain": [
              "<Figure size 720x720 with 2 Axes>"
            ]
          },
          "metadata": {}
        }
      ]
    },
    {
      "cell_type": "code",
      "source": [
        "data.columns"
      ],
      "metadata": {
        "colab": {
          "base_uri": "https://localhost:8080/"
        },
        "id": "vkss00ueCfU6",
        "outputId": "6f1e93c4-1078-4853-83b3-74b844506705"
      },
      "execution_count": 43,
      "outputs": [
        {
          "output_type": "execute_result",
          "data": {
            "text/plain": [
              "Index(['Sex_female', 'Sex_male', 'Title_Miss', 'Title_Mr', 'Title_Mrs',\n",
              "       'Title_Royalty', 'Embarked_C', 'Embarked_Q', 'Embarked_S', 'Pclass',\n",
              "       'Age', 'group_sibsp', 'group_parch', '1_Cabin', 'log_Fare', 'Tiket_cat',\n",
              "       'group_familynum', 'familynum', 'Ticket_count'],\n",
              "      dtype='object')"
            ]
          },
          "metadata": {},
          "execution_count": 43
        }
      ]
    },
    {
      "cell_type": "code",
      "source": [
        "# data.drop([ 'familynum'],axis=1,inplace=True)"
      ],
      "metadata": {
        "id": "fdLQIEBaCaSe"
      },
      "execution_count": 44,
      "outputs": []
    },
    {
      "cell_type": "code",
      "source": [
        "data_train=data[:891]\n",
        "data_test=data[891:1310]\n",
        "\n",
        "data_tar=train[\"Survived\"]"
      ],
      "metadata": {
        "execution": {
          "iopub.status.busy": "2022-02-17T03:38:31.109791Z",
          "iopub.execute_input": "2022-02-17T03:38:31.110021Z",
          "iopub.status.idle": "2022-02-17T03:38:31.122450Z",
          "shell.execute_reply.started": "2022-02-17T03:38:31.109994Z",
          "shell.execute_reply": "2022-02-17T03:38:31.121794Z"
        },
        "trusted": true,
        "id": "vPETEwQHB3ML"
      },
      "execution_count": 45,
      "outputs": []
    },
    {
      "cell_type": "code",
      "source": [
        "from sklearn.model_selection import train_test_split\n",
        "from sklearn.linear_model import LogisticRegression\n",
        "\n",
        "# X_train,X_test,y_train,y_test=train_test_split(data_train,data_tar)\n",
        "# print(X_train.shape)\n",
        "# print(X_test.shape)\n",
        "\n",
        "print(data_test.shape)\n",
        "data_train=np.array(data_train).reshape(891,-1)\n",
        "data_test=np.array(data_test).reshape(418,-1)\n",
        "\n",
        "print(data_train.shape)"
      ],
      "metadata": {
        "execution": {
          "iopub.status.busy": "2022-02-17T04:34:47.971712Z",
          "iopub.execute_input": "2022-02-17T04:34:47.972279Z",
          "iopub.status.idle": "2022-02-17T04:34:47.984688Z",
          "shell.execute_reply.started": "2022-02-17T04:34:47.972247Z",
          "shell.execute_reply": "2022-02-17T04:34:47.983789Z"
        },
        "trusted": true,
        "colab": {
          "base_uri": "https://localhost:8080/"
        },
        "id": "6CR864k4B3MM",
        "outputId": "988e6889-9b62-4542-8bf5-5348a697afd9"
      },
      "execution_count": 46,
      "outputs": [
        {
          "output_type": "stream",
          "name": "stdout",
          "text": [
            "(418, 19)\n",
            "(891, 19)\n"
          ]
        }
      ]
    },
    {
      "cell_type": "code",
      "source": [
        "from sklearn.ensemble import RandomForestClassifier,GradientBoostingClassifier,ExtraTreesClassifier\n",
        "from sklearn.discriminant_analysis import LinearDiscriminantAnalysis\n",
        "from sklearn.linear_model import LogisticRegression\n",
        "from sklearn.neighbors import KNeighborsClassifier\n",
        "from sklearn.tree import DecisionTreeClassifier\n",
        "from sklearn.svm import SVC\n",
        "from sklearn.model_selection import GridSearchCV,cross_val_score,StratifiedKFold\n",
        "\n",
        "#设置kfold，交叉采样法拆分数据集\n",
        "kfold=StratifiedKFold(n_splits=10)\n",
        "\n",
        "#汇总不同模型算法\n",
        "classifiers=[]\n",
        "classifiers.append(SVC())\n",
        "classifiers.append(DecisionTreeClassifier())\n",
        "classifiers.append(RandomForestClassifier())\n",
        "classifiers.append(ExtraTreesClassifier())\n",
        "classifiers.append(GradientBoostingClassifier())\n",
        "classifiers.append(KNeighborsClassifier())\n",
        "classifiers.append(LogisticRegression())\n",
        "classifiers.append(LinearDiscriminantAnalysis())"
      ],
      "metadata": {
        "id": "N-7avA8iPIAt"
      },
      "execution_count": 47,
      "outputs": []
    },
    {
      "cell_type": "code",
      "source": [
        "cv_results=[]\n",
        "for classifier in classifiers:\n",
        "    cv_results.append(cross_val_score(classifier,data_train,data_tar,\n",
        "                                      scoring='accuracy',cv=kfold,n_jobs=-1))\n",
        "    \n",
        "#求出模型得分的均值和标准差\n",
        "cv_means=[]\n",
        "cv_std=[]\n",
        "for cv_result in cv_results:\n",
        "    cv_means.append(cv_result.mean())\n",
        "    cv_std.append(cv_result.std())\n",
        "models_accuracy=pd.DataFrame({'cv_mean':cv_means,\n",
        "                     'cv_std':cv_std,\n",
        "                     'algorithm':['SVC','DecisionTreeCla','RandomForestCla','ExtraTreesCla',\n",
        "                                  'GradientBoostingCla','KNN','LR','LinearDiscrimiAna']})\n",
        "\n",
        "models_accuracy"
      ],
      "metadata": {
        "colab": {
          "base_uri": "https://localhost:8080/",
          "height": 300
        },
        "id": "9WwwiZ2iPnWg",
        "outputId": "a81b5ad2-8ec8-4ba0-9169-a7a94cea5e02"
      },
      "execution_count": 48,
      "outputs": [
        {
          "output_type": "execute_result",
          "data": {
            "text/html": [
              "\n",
              "  <div id=\"df-84f5935a-86d7-4878-ac41-624839f426ae\">\n",
              "    <div class=\"colab-df-container\">\n",
              "      <div>\n",
              "<style scoped>\n",
              "    .dataframe tbody tr th:only-of-type {\n",
              "        vertical-align: middle;\n",
              "    }\n",
              "\n",
              "    .dataframe tbody tr th {\n",
              "        vertical-align: top;\n",
              "    }\n",
              "\n",
              "    .dataframe thead th {\n",
              "        text-align: right;\n",
              "    }\n",
              "</style>\n",
              "<table border=\"1\" class=\"dataframe\">\n",
              "  <thead>\n",
              "    <tr style=\"text-align: right;\">\n",
              "      <th></th>\n",
              "      <th>cv_mean</th>\n",
              "      <th>cv_std</th>\n",
              "      <th>algorithm</th>\n",
              "    </tr>\n",
              "  </thead>\n",
              "  <tbody>\n",
              "    <tr>\n",
              "      <th>0</th>\n",
              "      <td>0.766617</td>\n",
              "      <td>0.050583</td>\n",
              "      <td>SVC</td>\n",
              "    </tr>\n",
              "    <tr>\n",
              "      <th>1</th>\n",
              "      <td>0.769988</td>\n",
              "      <td>0.037837</td>\n",
              "      <td>DecisionTreeCla</td>\n",
              "    </tr>\n",
              "    <tr>\n",
              "      <th>2</th>\n",
              "      <td>0.809276</td>\n",
              "      <td>0.044802</td>\n",
              "      <td>RandomForestCla</td>\n",
              "    </tr>\n",
              "    <tr>\n",
              "      <th>3</th>\n",
              "      <td>0.802484</td>\n",
              "      <td>0.037912</td>\n",
              "      <td>ExtraTreesCla</td>\n",
              "    </tr>\n",
              "    <tr>\n",
              "      <th>4</th>\n",
              "      <td>0.829413</td>\n",
              "      <td>0.039780</td>\n",
              "      <td>GradientBoostingCla</td>\n",
              "    </tr>\n",
              "    <tr>\n",
              "      <th>5</th>\n",
              "      <td>0.792397</td>\n",
              "      <td>0.038822</td>\n",
              "      <td>KNN</td>\n",
              "    </tr>\n",
              "    <tr>\n",
              "      <th>6</th>\n",
              "      <td>0.822672</td>\n",
              "      <td>0.034368</td>\n",
              "      <td>LR</td>\n",
              "    </tr>\n",
              "    <tr>\n",
              "      <th>7</th>\n",
              "      <td>0.819301</td>\n",
              "      <td>0.028194</td>\n",
              "      <td>LinearDiscrimiAna</td>\n",
              "    </tr>\n",
              "  </tbody>\n",
              "</table>\n",
              "</div>\n",
              "      <button class=\"colab-df-convert\" onclick=\"convertToInteractive('df-84f5935a-86d7-4878-ac41-624839f426ae')\"\n",
              "              title=\"Convert this dataframe to an interactive table.\"\n",
              "              style=\"display:none;\">\n",
              "        \n",
              "  <svg xmlns=\"http://www.w3.org/2000/svg\" height=\"24px\"viewBox=\"0 0 24 24\"\n",
              "       width=\"24px\">\n",
              "    <path d=\"M0 0h24v24H0V0z\" fill=\"none\"/>\n",
              "    <path d=\"M18.56 5.44l.94 2.06.94-2.06 2.06-.94-2.06-.94-.94-2.06-.94 2.06-2.06.94zm-11 1L8.5 8.5l.94-2.06 2.06-.94-2.06-.94L8.5 2.5l-.94 2.06-2.06.94zm10 10l.94 2.06.94-2.06 2.06-.94-2.06-.94-.94-2.06-.94 2.06-2.06.94z\"/><path d=\"M17.41 7.96l-1.37-1.37c-.4-.4-.92-.59-1.43-.59-.52 0-1.04.2-1.43.59L10.3 9.45l-7.72 7.72c-.78.78-.78 2.05 0 2.83L4 21.41c.39.39.9.59 1.41.59.51 0 1.02-.2 1.41-.59l7.78-7.78 2.81-2.81c.8-.78.8-2.07 0-2.86zM5.41 20L4 18.59l7.72-7.72 1.47 1.35L5.41 20z\"/>\n",
              "  </svg>\n",
              "      </button>\n",
              "      \n",
              "  <style>\n",
              "    .colab-df-container {\n",
              "      display:flex;\n",
              "      flex-wrap:wrap;\n",
              "      gap: 12px;\n",
              "    }\n",
              "\n",
              "    .colab-df-convert {\n",
              "      background-color: #E8F0FE;\n",
              "      border: none;\n",
              "      border-radius: 50%;\n",
              "      cursor: pointer;\n",
              "      display: none;\n",
              "      fill: #1967D2;\n",
              "      height: 32px;\n",
              "      padding: 0 0 0 0;\n",
              "      width: 32px;\n",
              "    }\n",
              "\n",
              "    .colab-df-convert:hover {\n",
              "      background-color: #E2EBFA;\n",
              "      box-shadow: 0px 1px 2px rgba(60, 64, 67, 0.3), 0px 1px 3px 1px rgba(60, 64, 67, 0.15);\n",
              "      fill: #174EA6;\n",
              "    }\n",
              "\n",
              "    [theme=dark] .colab-df-convert {\n",
              "      background-color: #3B4455;\n",
              "      fill: #D2E3FC;\n",
              "    }\n",
              "\n",
              "    [theme=dark] .colab-df-convert:hover {\n",
              "      background-color: #434B5C;\n",
              "      box-shadow: 0px 1px 3px 1px rgba(0, 0, 0, 0.15);\n",
              "      filter: drop-shadow(0px 1px 2px rgba(0, 0, 0, 0.3));\n",
              "      fill: #FFFFFF;\n",
              "    }\n",
              "  </style>\n",
              "\n",
              "      <script>\n",
              "        const buttonEl =\n",
              "          document.querySelector('#df-84f5935a-86d7-4878-ac41-624839f426ae button.colab-df-convert');\n",
              "        buttonEl.style.display =\n",
              "          google.colab.kernel.accessAllowed ? 'block' : 'none';\n",
              "\n",
              "        async function convertToInteractive(key) {\n",
              "          const element = document.querySelector('#df-84f5935a-86d7-4878-ac41-624839f426ae');\n",
              "          const dataTable =\n",
              "            await google.colab.kernel.invokeFunction('convertToInteractive',\n",
              "                                                     [key], {});\n",
              "          if (!dataTable) return;\n",
              "\n",
              "          const docLinkHtml = 'Like what you see? Visit the ' +\n",
              "            '<a target=\"_blank\" href=https://colab.research.google.com/notebooks/data_table.ipynb>data table notebook</a>'\n",
              "            + ' to learn more about interactive tables.';\n",
              "          element.innerHTML = '';\n",
              "          dataTable['output_type'] = 'display_data';\n",
              "          await google.colab.output.renderOutput(dataTable, element);\n",
              "          const docLink = document.createElement('div');\n",
              "          docLink.innerHTML = docLinkHtml;\n",
              "          element.appendChild(docLink);\n",
              "        }\n",
              "      </script>\n",
              "    </div>\n",
              "  </div>\n",
              "  "
            ],
            "text/plain": [
              "    cv_mean    cv_std            algorithm\n",
              "0  0.766617  0.050583                  SVC\n",
              "1  0.769988  0.037837      DecisionTreeCla\n",
              "2  0.809276  0.044802      RandomForestCla\n",
              "3  0.802484  0.037912        ExtraTreesCla\n",
              "4  0.829413  0.039780  GradientBoostingCla\n",
              "5  0.792397  0.038822                  KNN\n",
              "6  0.822672  0.034368                   LR\n",
              "7  0.819301  0.028194    LinearDiscrimiAna"
            ]
          },
          "metadata": {},
          "execution_count": 48
        }
      ]
    },
    {
      "cell_type": "markdown",
      "source": [
        "可视化查看代码的各种表现"
      ],
      "metadata": {
        "id": "zD3BrBADQdHn"
      }
    },
    {
      "cell_type": "code",
      "source": [
        "cvResFacet=sns.FacetGrid(models_accuracy.sort_values(by='cv_mean',ascending=False),sharex=False,\n",
        "            sharey=False,aspect=2)\n",
        "cvResFacet.map(sns.barplot,'cv_mean','algorithm',**{'xerr':cv_std},\n",
        "               )\n",
        "cvResFacet.set(xlim=(0.7,0.9))\n",
        "cvResFacet.add_legend()"
      ],
      "metadata": {
        "colab": {
          "base_uri": "https://localhost:8080/",
          "height": 244
        },
        "id": "GXVmt-kYQmjr",
        "outputId": "9a916ae9-3e29-4149-a2e2-92d487a60f30"
      },
      "execution_count": 58,
      "outputs": [
        {
          "output_type": "execute_result",
          "data": {
            "text/plain": [
              "<seaborn.axisgrid.FacetGrid at 0x7fee38383750>"
            ]
          },
          "metadata": {},
          "execution_count": 58
        },
        {
          "output_type": "display_data",
          "data": {
            "image/png": "[encoded data removed]",
            "text/plain": [
              "<Figure size 439.04x216 with 1 Axes>"
            ]
          },
          "metadata": {}
        }
      ]
    },
    {
      "cell_type": "markdown",
      "source": [
        "逻辑回归虽然平均准确率要比GBC要低0.7%但它的方差更小"
      ],
      "metadata": {
        "id": "0oEHte7enTxG"
      }
    },
    {
      "cell_type": "markdown",
      "source": [
        "模型调优"
      ],
      "metadata": {
        "id": "_FUZJPA4U71t"
      }
    },
    {
      "cell_type": "code",
      "source": [
        "#GradientBoostingClassifier模型\n",
        "GBC = GradientBoostingClassifier()\n",
        "param_info = {'loss' : [\"deviance\"],\n",
        "              'n_estimators' : [100,200,300],\n",
        "              'learning_rate': [0.1, 0.05, 0.01],\n",
        "              'max_depth': [4, 8],\n",
        "              'min_samples_leaf': [100,150],\n",
        "              'max_features': [0.3, 0.1] \n",
        "              }\n",
        "modelgsGBC = GridSearchCV(GBC,param_grid = param_info, cv=kfold, \n",
        "                                     scoring=\"accuracy\", n_jobs= -1, verbose = 1)\n",
        "modelgsGBC.fit(data_train,data_tar)\n",
        "\n",
        "#LogisticRegression模型\n",
        "modelLR=LogisticRegression()\n",
        "LR_param_info = {'C' : [0.1,1,2,3,10],    #越小正则化越强\n",
        "                'penalty':['l1','l2']}\n",
        "modelgsLR = GridSearchCV(modelLR,param_grid = LR_param_info, cv=kfold, \n",
        "                                     scoring=\"accuracy\", n_jobs= -1, verbose = 1)\n",
        "modelgsLR.fit(data_train,data_tar)\n",
        "\n",
        "print(\"GBC_best_accu:\",modelgsGBC.best_score_)\n",
        "print(\"LR_best_accu:\",modelgsLR.best_score_)"
      ],
      "metadata": {
        "colab": {
          "base_uri": "https://localhost:8080/"
        },
        "id": "9Yc6qm9oU-Tr",
        "outputId": "4cbb1066-0e27-4677-bafa-f254ac447325"
      },
      "execution_count": 51,
      "outputs": [
        {
          "output_type": "stream",
          "name": "stdout",
          "text": [
            "Fitting 10 folds for each of 72 candidates, totalling 720 fits\n",
            "Fitting 10 folds for each of 10 candidates, totalling 100 fits\n",
            "GBC_best_accu: 0.8383895131086142\n",
            "LR_best_accu: 0.8226841448189763\n"
          ]
        }
      ]
    },
    {
      "cell_type": "markdown",
      "source": [
        "比较这两种算法的roc图"
      ],
      "metadata": {
        "id": "Q0pZqHmvzN-l"
      }
    },
    {
      "cell_type": "code",
      "source": [
        "modelgsGBCtestpre_y=modelgsGBC.predict(data_train).astype(int)\n",
        "modelgsLRtestpre_y=modelgsLR.predict(data_train).astype(int)\n",
        "\n",
        "from sklearn.metrics import roc_curve, auc  ###计算roc和auc\n",
        "\n",
        "fpr_G,tpr_G,threshold_G = roc_curve(data_tar, modelgsGBCtestpre_y) ###计算真正率和假正率\n",
        "roc_auc_G = auc(fpr_G,tpr_G) ###计算auc的值\n",
        "fpr_R,tpr_R,threshold_R = roc_curve(data_tar, modelgsLRtestpre_y) ###计算真正率和假正率\n",
        "roc_auc_R = auc(fpr_R,tpr_R) ###计算auc的值\n",
        "\n",
        "plt.figure()\n",
        "lw = 2\n",
        "plt.figure(figsize=(10,10))\n",
        "plt.plot(fpr_G, tpr_G, color='r',\n",
        "         lw=lw, label='G_ROC curve (area = %0.3f)' % roc_auc_G) ###假正率为横坐标，真正率为纵坐标做曲线\n",
        "\n",
        "plt.plot(fpr_R, tpr_R, color='b',\n",
        "         lw=lw, label='R_ROC curve (area = %0.3f)' % roc_auc_R) ###假正率为横坐标，真正率为纵坐标做曲线\n",
        "plt.plot([0, 1], [0, 1], color='navy', lw=lw, linestyle='--')\n",
        "plt.xlim([0.0, 1.0])\n",
        "plt.ylim([0.0, 1.0])\n",
        "plt.xlabel('False Positive Rate')\n",
        "plt.ylabel('True Positive Rate')\n",
        "plt.title('Titanic  Model')\n",
        "plt.legend(loc=\"lower right\")\n",
        "plt.show()"
      ],
      "metadata": {
        "colab": {
          "base_uri": "https://localhost:8080/",
          "height": 638
        },
        "id": "g3Ic4yAkzUwa",
        "outputId": "95038c6b-6481-42a2-97ef-a1cfd2b27516"
      },
      "execution_count": 55,
      "outputs": [
        {
          "output_type": "display_data",
          "data": {
            "text/plain": [
              "<Figure size 432x288 with 0 Axes>"
            ]
          },
          "metadata": {}
        },
        {
          "output_type": "display_data",
          "data": {
            "image/png": "[encoded data removed]",
            "text/plain": [
              "<Figure size 720x720 with 1 Axes>"
            ]
          },
          "metadata": {}
        }
      ]
    },
    {
      "cell_type": "markdown",
      "source": [
        "观察roc和auc可以看出GBC算法更好"
      ],
      "metadata": {
        "id": "edYR7XqmIRrd"
      }
    },
    {
      "cell_type": "markdown",
      "source": [
        "计算混淆矩阵"
      ],
      "metadata": {
        "id": "QTpUY0AUHj_s"
      }
    },
    {
      "cell_type": "code",
      "source": [
        "#混淆矩阵\n",
        "from sklearn.metrics import confusion_matrix\n",
        "print('GradientBoostingClassifier模型混淆矩阵为\\n',confusion_matrix(data_tar.astype(int).astype(str),modelgsGBCtestpre_y.astype(str)))\n",
        "print('LinearRegression模型混淆矩阵为\\n',confusion_matrix(data_tar.astype(int).astype(str),modelgsLRtestpre_y.astype(str)))"
      ],
      "metadata": {
        "colab": {
          "base_uri": "https://localhost:8080/"
        },
        "id": "6gfgAytFHnhh",
        "outputId": "da31c88b-6254-4eee-b924-556ab09c3f56"
      },
      "execution_count": 56,
      "outputs": [
        {
          "output_type": "stream",
          "name": "stdout",
          "text": [
            "GradientBoostingClassifier模型混淆矩阵为\n",
            " [[502  47]\n",
            " [ 77 265]]\n",
            "LinearRegression模型混淆矩阵为\n",
            " [[480  69]\n",
            " [ 88 254]]\n"
          ]
        }
      ]
    },
    {
      "cell_type": "markdown",
      "source": [
        "将逻辑回归和GBC的结果各自写一份csv文件"
      ],
      "metadata": {
        "id": "7DweFwkWvwBH"
      }
    },
    {
      "cell_type": "code",
      "source": [
        "# from sklearn.model_selection import cross_val_score\n",
        "import csv\n",
        "\n",
        "#逻辑回归模型\n",
        "predict_data=pd.DataFrame(modelgsLR.predict(data_test).astype(int).reshape(-1,1),columns=[\"Survived\"])\n",
        "submission=pd.concat([testing[\"PassengerId\"],predict_data],axis=1)\n",
        "file_name= \"submission_LR\"+\".csv\"\n",
        "submission.to_csv(file_name,index=False)\n",
        "\n",
        "\n",
        "#GBC\n",
        "predict_data=pd.DataFrame(modelgsGBC.predict(data_test).astype(int).reshape(-1,1),columns=[\"Survived\"])\n",
        "submission=pd.concat([testing[\"PassengerId\"],predict_data],axis=1)\n",
        "file_name= \"submission_GBC\"+\".csv\"\n",
        "submission.to_csv(file_name,index=False)"
      ],
      "metadata": {
        "execution": {
          "iopub.status.busy": "2022-02-17T04:51:40.375793Z",
          "iopub.execute_input": "2022-02-17T04:51:40.376138Z",
          "iopub.status.idle": "2022-02-17T04:51:40.535408Z",
          "shell.execute_reply.started": "2022-02-17T04:51:40.376095Z",
          "shell.execute_reply": "2022-02-17T04:51:40.534261Z"
        },
        "trusted": true,
        "id": "9makuSePB3MM"
      },
      "execution_count": 57,
      "outputs": []
    },
    {
      "cell_type": "markdown",
      "source": [
        "逻辑回归的结果在提交的测试集中表现更好"
      ],
      "metadata": {
        "id": "ZjkRyAvezvpm"
      }
    },
    {
      "cell_type": "code",
      "source": [
        "# from sklearn.preprocessing import PolynomialFeatures\n",
        "\n",
        "# polynomial = PolynomialFeatures(degree=3)\n",
        "# X_poly_train=polynomial.fit_transform(X_train)\n",
        "# # print(X_poly.shape)\n",
        "# X_poly_test=polynomial.fit_transform(X_test)\n",
        "\n",
        "# logreg=LogisticRegression()  #c越小正则化越强\n",
        "# logreg.fit(X_poly_train,y_train)\n",
        "# print(logreg.score(X_poly_train,y_train))\n",
        "# print(logreg.score(X_poly_test,y_test))"
      ],
      "metadata": {
        "execution": {
          "iopub.status.busy": "2022-02-17T04:51:50.924337Z",
          "iopub.execute_input": "2022-02-17T04:51:50.924861Z",
          "iopub.status.idle": "2022-02-17T04:51:51.064580Z",
          "shell.execute_reply.started": "2022-02-17T04:51:50.924797Z",
          "shell.execute_reply": "2022-02-17T04:51:51.062962Z"
        },
        "trusted": true,
        "id": "GzCpv8SaB3MN"
      },
      "execution_count": null,
      "outputs": []
    },
    {
      "cell_type": "code",
      "source": [
        "\n",
        "# logreg=LogisticRegression(C=1)\n",
        "# logreg.fit(X_train,y_train)\n",
        "\n",
        "\n",
        "# with open (\"submission.csv\",\"w\",newline=\"\") as fp:\n",
        "#         writer = csv.writer(fp)\n",
        "#         writer.writerow([test, 'tested_positive'])"
      ],
      "metadata": {
        "execution": {
          "iopub.status.busy": "2022-02-17T04:49:41.242157Z",
          "iopub.execute_input": "2022-02-17T04:49:41.242603Z",
          "iopub.status.idle": "2022-02-17T04:49:50.974328Z",
          "shell.execute_reply.started": "2022-02-17T04:49:41.242557Z",
          "shell.execute_reply": "2022-02-17T04:49:50.973304Z"
        },
        "trusted": true,
        "id": "LbinLflQB3MN"
      },
      "execution_count": null,
      "outputs": []
    }
  ]
}